{
 "cells": [
  {
   "cell_type": "markdown",
   "metadata": {},
   "source": [
    "# Sentiment Analysis (CV-TF_IDF-HASH) "
   ]
  },
  {
   "cell_type": "markdown",
   "metadata": {},
   "source": [
    "### Import necessary libraries"
   ]
  },
  {
   "cell_type": "code",
   "execution_count": 2,
   "metadata": {},
   "outputs": [
    {
     "name": "stderr",
     "output_type": "stream",
     "text": [
      "c:\\users\\owner\\appdata\\local\\programs\\python\\python38\\lib\\site-packages\\gensim\\similarities\\__init__.py:15: UserWarning: The gensim.similarities.levenshtein submodule is disabled, because the optional Levenshtein package <https://pypi.org/project/python-Levenshtein/> is unavailable. Install Levenhstein (e.g. `pip install python-Levenshtein`) to suppress this warning.\n",
      "  warnings.warn(msg)\n"
     ]
    }
   ],
   "source": [
    "# Dataframe\n",
    "import pandas as pd\n",
    "\n",
    "# Array\n",
    "import numpy as np\n",
    "import itertools\n",
    "\n",
    "# Decompress the file\n",
    "import gzip\n",
    "\n",
    "# Visualizations\n",
    "import matplotlib.pyplot as plt\n",
    "from matplotlib.colors import ListedColormap\n",
    "import seaborn as sns\n",
    "import matplotlib.colors as colors\n",
    "%matplotlib inline\n",
    "from wordcloud import WordCloud, STOPWORDS\n",
    "\n",
    "# Datetime\n",
    "from datetime import datetime\n",
    "\n",
    "# text preprocessing\n",
    "import spacy\n",
    "import nltk\n",
    "from nltk.corpus import stopwords\n",
    "from nltk.stem import PorterStemmer, WordNetLemmatizer\n",
    "from nltk.tokenize import word_tokenize, sent_tokenize, regexp_tokenize\n",
    "from nltk.tokenize import RegexpTokenizer\n",
    "from nltk.tokenize.toktok import ToktokTokenizer\n",
    "import gensim\n",
    "import re\n",
    "\n",
    "\n",
    "import unicodedata\n",
    "tokenizer = ToktokTokenizer()\n",
    "#nlp = spacy.load(\"en_core_web_sm\")\n",
    "\n",
    "## Modeling\n",
    "from sklearn.model_selection import cross_validate\n",
    "from sklearn.model_selection import train_test_split\n",
    "from sklearn.model_selection import StratifiedKFold\n",
    "from sklearn.model_selection import GridSearchCV\n",
    "from sklearn.model_selection import cross_val_predict\n",
    "from sklearn.model_selection import cross_val_score\n",
    "from sklearn.linear_model import LogisticRegression\n",
    "from sklearn.model_selection import learning_curve\n",
    "from sklearn.ensemble import ExtraTreesClassifier\n",
    "from sklearn.decomposition import TruncatedSVD\n",
    "from sklearn.feature_extraction.text import TfidfVectorizer, CountVectorizer, HashingVectorizer\n",
    "from sklearn.pipeline import Pipeline\n",
    "from sklearn.naive_bayes import MultinomialNB\n",
    "from catboost import CatBoostClassifier, Pool\n",
    "from sklearn.naive_bayes import GaussianNB \n",
    "from sklearn.svm import SVC\n",
    "from sklearn import metrics\n",
    "from sklearn.metrics import classification_report\n",
    "from sklearn.metrics import confusion_matrix\n",
    "from  sklearn.metrics import precision_recall_fscore_support\n",
    "from sklearn.ensemble import RandomForestClassifier\n",
    "from sklearn.tree import DecisionTreeClassifier\n",
    "from sklearn.metrics import f1_score\n",
    "from sklearn.metrics import recall_score\n",
    "from gensim.models import Word2Vec\n",
    "from tqdm import tqdm\n",
    "import xgboost as xgb\n",
    "from xgboost import XGBClassifier\n",
    "from sklearn.dummy import DummyClassifier\n",
    "\n",
    "## Warnings\n",
    "import warnings\n",
    "from scipy import stats\n",
    "warnings.filterwarnings('ignore')"
   ]
  },
  {
   "cell_type": "code",
   "execution_count": 3,
   "metadata": {},
   "outputs": [],
   "source": [
    "import os\n",
    "os.environ['KMP_DUPLICATE_LIB_OK']='True'\n",
    "from xgboost import XGBClassifier"
   ]
  },
  {
   "cell_type": "markdown",
   "metadata": {},
   "source": [
    "### Reading the Cleaned Dataset"
   ]
  },
  {
   "cell_type": "code",
   "execution_count": 4,
   "metadata": {},
   "outputs": [],
   "source": [
    "# Read the file\n",
    "df = pd.read_csv('1429_1.csv')"
   ]
  },
  {
   "cell_type": "code",
   "execution_count": 5,
   "metadata": {},
   "outputs": [
    {
     "data": {
      "text/html": [
       "<div>\n",
       "<style scoped>\n",
       "    .dataframe tbody tr th:only-of-type {\n",
       "        vertical-align: middle;\n",
       "    }\n",
       "\n",
       "    .dataframe tbody tr th {\n",
       "        vertical-align: top;\n",
       "    }\n",
       "\n",
       "    .dataframe thead th {\n",
       "        text-align: right;\n",
       "    }\n",
       "</style>\n",
       "<table border=\"1\" class=\"dataframe\">\n",
       "  <thead>\n",
       "    <tr style=\"text-align: right;\">\n",
       "      <th></th>\n",
       "      <th>id</th>\n",
       "      <th>name</th>\n",
       "      <th>asins</th>\n",
       "      <th>brand</th>\n",
       "      <th>categories</th>\n",
       "      <th>keys</th>\n",
       "      <th>manufacturer</th>\n",
       "      <th>reviews.date</th>\n",
       "      <th>reviews.dateAdded</th>\n",
       "      <th>reviews.dateSeen</th>\n",
       "      <th>...</th>\n",
       "      <th>reviews.doRecommend</th>\n",
       "      <th>reviews.id</th>\n",
       "      <th>reviews.numHelpful</th>\n",
       "      <th>reviews.rating</th>\n",
       "      <th>reviews.sourceURLs</th>\n",
       "      <th>reviews.text</th>\n",
       "      <th>reviews.title</th>\n",
       "      <th>reviews.userCity</th>\n",
       "      <th>reviews.userProvince</th>\n",
       "      <th>reviews.username</th>\n",
       "    </tr>\n",
       "  </thead>\n",
       "  <tbody>\n",
       "    <tr>\n",
       "      <th>0</th>\n",
       "      <td>AVqkIhwDv8e3D1O-lebb</td>\n",
       "      <td>All-New Fire HD 8 Tablet, 8 HD Display, Wi-Fi,...</td>\n",
       "      <td>B01AHB9CN2</td>\n",
       "      <td>Amazon</td>\n",
       "      <td>Electronics,iPad &amp; Tablets,All Tablets,Fire Ta...</td>\n",
       "      <td>841667104676,amazon/53004484,amazon/b01ahb9cn2...</td>\n",
       "      <td>Amazon</td>\n",
       "      <td>2017-01-13T00:00:00.000Z</td>\n",
       "      <td>2017-07-03T23:33:15Z</td>\n",
       "      <td>2017-06-07T09:04:00.000Z,2017-04-30T00:45:00.000Z</td>\n",
       "      <td>...</td>\n",
       "      <td>True</td>\n",
       "      <td>NaN</td>\n",
       "      <td>0.0</td>\n",
       "      <td>5.0</td>\n",
       "      <td>http://reviews.bestbuy.com/3545/5620406/review...</td>\n",
       "      <td>This product so far has not disappointed. My c...</td>\n",
       "      <td>Kindle</td>\n",
       "      <td>NaN</td>\n",
       "      <td>NaN</td>\n",
       "      <td>Adapter</td>\n",
       "    </tr>\n",
       "    <tr>\n",
       "      <th>1</th>\n",
       "      <td>AVqkIhwDv8e3D1O-lebb</td>\n",
       "      <td>All-New Fire HD 8 Tablet, 8 HD Display, Wi-Fi,...</td>\n",
       "      <td>B01AHB9CN2</td>\n",
       "      <td>Amazon</td>\n",
       "      <td>Electronics,iPad &amp; Tablets,All Tablets,Fire Ta...</td>\n",
       "      <td>841667104676,amazon/53004484,amazon/b01ahb9cn2...</td>\n",
       "      <td>Amazon</td>\n",
       "      <td>2017-01-13T00:00:00.000Z</td>\n",
       "      <td>2017-07-03T23:33:15Z</td>\n",
       "      <td>2017-06-07T09:04:00.000Z,2017-04-30T00:45:00.000Z</td>\n",
       "      <td>...</td>\n",
       "      <td>True</td>\n",
       "      <td>NaN</td>\n",
       "      <td>0.0</td>\n",
       "      <td>5.0</td>\n",
       "      <td>http://reviews.bestbuy.com/3545/5620406/review...</td>\n",
       "      <td>great for beginner or experienced person. Boug...</td>\n",
       "      <td>very fast</td>\n",
       "      <td>NaN</td>\n",
       "      <td>NaN</td>\n",
       "      <td>truman</td>\n",
       "    </tr>\n",
       "    <tr>\n",
       "      <th>2</th>\n",
       "      <td>AVqkIhwDv8e3D1O-lebb</td>\n",
       "      <td>All-New Fire HD 8 Tablet, 8 HD Display, Wi-Fi,...</td>\n",
       "      <td>B01AHB9CN2</td>\n",
       "      <td>Amazon</td>\n",
       "      <td>Electronics,iPad &amp; Tablets,All Tablets,Fire Ta...</td>\n",
       "      <td>841667104676,amazon/53004484,amazon/b01ahb9cn2...</td>\n",
       "      <td>Amazon</td>\n",
       "      <td>2017-01-13T00:00:00.000Z</td>\n",
       "      <td>2017-07-03T23:33:15Z</td>\n",
       "      <td>2017-06-07T09:04:00.000Z,2017-04-30T00:45:00.000Z</td>\n",
       "      <td>...</td>\n",
       "      <td>True</td>\n",
       "      <td>NaN</td>\n",
       "      <td>0.0</td>\n",
       "      <td>5.0</td>\n",
       "      <td>http://reviews.bestbuy.com/3545/5620406/review...</td>\n",
       "      <td>Inexpensive tablet for him to use and learn on...</td>\n",
       "      <td>Beginner tablet for our 9 year old son.</td>\n",
       "      <td>NaN</td>\n",
       "      <td>NaN</td>\n",
       "      <td>DaveZ</td>\n",
       "    </tr>\n",
       "    <tr>\n",
       "      <th>3</th>\n",
       "      <td>AVqkIhwDv8e3D1O-lebb</td>\n",
       "      <td>All-New Fire HD 8 Tablet, 8 HD Display, Wi-Fi,...</td>\n",
       "      <td>B01AHB9CN2</td>\n",
       "      <td>Amazon</td>\n",
       "      <td>Electronics,iPad &amp; Tablets,All Tablets,Fire Ta...</td>\n",
       "      <td>841667104676,amazon/53004484,amazon/b01ahb9cn2...</td>\n",
       "      <td>Amazon</td>\n",
       "      <td>2017-01-13T00:00:00.000Z</td>\n",
       "      <td>2017-07-03T23:33:15Z</td>\n",
       "      <td>2017-06-07T09:04:00.000Z,2017-04-30T00:45:00.000Z</td>\n",
       "      <td>...</td>\n",
       "      <td>True</td>\n",
       "      <td>NaN</td>\n",
       "      <td>0.0</td>\n",
       "      <td>4.0</td>\n",
       "      <td>http://reviews.bestbuy.com/3545/5620406/review...</td>\n",
       "      <td>I've had my Fire HD 8 two weeks now and I love...</td>\n",
       "      <td>Good!!!</td>\n",
       "      <td>NaN</td>\n",
       "      <td>NaN</td>\n",
       "      <td>Shacks</td>\n",
       "    </tr>\n",
       "    <tr>\n",
       "      <th>4</th>\n",
       "      <td>AVqkIhwDv8e3D1O-lebb</td>\n",
       "      <td>All-New Fire HD 8 Tablet, 8 HD Display, Wi-Fi,...</td>\n",
       "      <td>B01AHB9CN2</td>\n",
       "      <td>Amazon</td>\n",
       "      <td>Electronics,iPad &amp; Tablets,All Tablets,Fire Ta...</td>\n",
       "      <td>841667104676,amazon/53004484,amazon/b01ahb9cn2...</td>\n",
       "      <td>Amazon</td>\n",
       "      <td>2017-01-12T00:00:00.000Z</td>\n",
       "      <td>2017-07-03T23:33:15Z</td>\n",
       "      <td>2017-06-07T09:04:00.000Z,2017-04-30T00:45:00.000Z</td>\n",
       "      <td>...</td>\n",
       "      <td>True</td>\n",
       "      <td>NaN</td>\n",
       "      <td>0.0</td>\n",
       "      <td>5.0</td>\n",
       "      <td>http://reviews.bestbuy.com/3545/5620406/review...</td>\n",
       "      <td>I bought this for my grand daughter when she c...</td>\n",
       "      <td>Fantastic Tablet for kids</td>\n",
       "      <td>NaN</td>\n",
       "      <td>NaN</td>\n",
       "      <td>explore42</td>\n",
       "    </tr>\n",
       "  </tbody>\n",
       "</table>\n",
       "<p>5 rows × 21 columns</p>\n",
       "</div>"
      ],
      "text/plain": [
       "                     id                                               name  \\\n",
       "0  AVqkIhwDv8e3D1O-lebb  All-New Fire HD 8 Tablet, 8 HD Display, Wi-Fi,...   \n",
       "1  AVqkIhwDv8e3D1O-lebb  All-New Fire HD 8 Tablet, 8 HD Display, Wi-Fi,...   \n",
       "2  AVqkIhwDv8e3D1O-lebb  All-New Fire HD 8 Tablet, 8 HD Display, Wi-Fi,...   \n",
       "3  AVqkIhwDv8e3D1O-lebb  All-New Fire HD 8 Tablet, 8 HD Display, Wi-Fi,...   \n",
       "4  AVqkIhwDv8e3D1O-lebb  All-New Fire HD 8 Tablet, 8 HD Display, Wi-Fi,...   \n",
       "\n",
       "        asins   brand                                         categories  \\\n",
       "0  B01AHB9CN2  Amazon  Electronics,iPad & Tablets,All Tablets,Fire Ta...   \n",
       "1  B01AHB9CN2  Amazon  Electronics,iPad & Tablets,All Tablets,Fire Ta...   \n",
       "2  B01AHB9CN2  Amazon  Electronics,iPad & Tablets,All Tablets,Fire Ta...   \n",
       "3  B01AHB9CN2  Amazon  Electronics,iPad & Tablets,All Tablets,Fire Ta...   \n",
       "4  B01AHB9CN2  Amazon  Electronics,iPad & Tablets,All Tablets,Fire Ta...   \n",
       "\n",
       "                                                keys manufacturer  \\\n",
       "0  841667104676,amazon/53004484,amazon/b01ahb9cn2...       Amazon   \n",
       "1  841667104676,amazon/53004484,amazon/b01ahb9cn2...       Amazon   \n",
       "2  841667104676,amazon/53004484,amazon/b01ahb9cn2...       Amazon   \n",
       "3  841667104676,amazon/53004484,amazon/b01ahb9cn2...       Amazon   \n",
       "4  841667104676,amazon/53004484,amazon/b01ahb9cn2...       Amazon   \n",
       "\n",
       "               reviews.date     reviews.dateAdded  \\\n",
       "0  2017-01-13T00:00:00.000Z  2017-07-03T23:33:15Z   \n",
       "1  2017-01-13T00:00:00.000Z  2017-07-03T23:33:15Z   \n",
       "2  2017-01-13T00:00:00.000Z  2017-07-03T23:33:15Z   \n",
       "3  2017-01-13T00:00:00.000Z  2017-07-03T23:33:15Z   \n",
       "4  2017-01-12T00:00:00.000Z  2017-07-03T23:33:15Z   \n",
       "\n",
       "                                    reviews.dateSeen  ... reviews.doRecommend  \\\n",
       "0  2017-06-07T09:04:00.000Z,2017-04-30T00:45:00.000Z  ...                True   \n",
       "1  2017-06-07T09:04:00.000Z,2017-04-30T00:45:00.000Z  ...                True   \n",
       "2  2017-06-07T09:04:00.000Z,2017-04-30T00:45:00.000Z  ...                True   \n",
       "3  2017-06-07T09:04:00.000Z,2017-04-30T00:45:00.000Z  ...                True   \n",
       "4  2017-06-07T09:04:00.000Z,2017-04-30T00:45:00.000Z  ...                True   \n",
       "\n",
       "  reviews.id  reviews.numHelpful  reviews.rating  \\\n",
       "0        NaN                 0.0             5.0   \n",
       "1        NaN                 0.0             5.0   \n",
       "2        NaN                 0.0             5.0   \n",
       "3        NaN                 0.0             4.0   \n",
       "4        NaN                 0.0             5.0   \n",
       "\n",
       "                                  reviews.sourceURLs  \\\n",
       "0  http://reviews.bestbuy.com/3545/5620406/review...   \n",
       "1  http://reviews.bestbuy.com/3545/5620406/review...   \n",
       "2  http://reviews.bestbuy.com/3545/5620406/review...   \n",
       "3  http://reviews.bestbuy.com/3545/5620406/review...   \n",
       "4  http://reviews.bestbuy.com/3545/5620406/review...   \n",
       "\n",
       "                                        reviews.text  \\\n",
       "0  This product so far has not disappointed. My c...   \n",
       "1  great for beginner or experienced person. Boug...   \n",
       "2  Inexpensive tablet for him to use and learn on...   \n",
       "3  I've had my Fire HD 8 two weeks now and I love...   \n",
       "4  I bought this for my grand daughter when she c...   \n",
       "\n",
       "                             reviews.title reviews.userCity  \\\n",
       "0                                   Kindle              NaN   \n",
       "1                                very fast              NaN   \n",
       "2  Beginner tablet for our 9 year old son.              NaN   \n",
       "3                                  Good!!!              NaN   \n",
       "4                Fantastic Tablet for kids              NaN   \n",
       "\n",
       "   reviews.userProvince  reviews.username  \n",
       "0                   NaN           Adapter  \n",
       "1                   NaN            truman  \n",
       "2                   NaN             DaveZ  \n",
       "3                   NaN            Shacks  \n",
       "4                   NaN         explore42  \n",
       "\n",
       "[5 rows x 21 columns]"
      ]
     },
     "execution_count": 5,
     "metadata": {},
     "output_type": "execute_result"
    }
   ],
   "source": [
    "# Sample observations\n",
    "df.head()"
   ]
  },
  {
   "cell_type": "code",
   "execution_count": 6,
   "metadata": {
    "scrolled": true
   },
   "outputs": [
    {
     "name": "stdout",
     "output_type": "stream",
     "text": [
      "<class 'pandas.core.frame.DataFrame'>\n",
      "RangeIndex: 34660 entries, 0 to 34659\n",
      "Data columns (total 21 columns):\n",
      " #   Column                Non-Null Count  Dtype  \n",
      "---  ------                --------------  -----  \n",
      " 0   id                    34660 non-null  object \n",
      " 1   name                  27900 non-null  object \n",
      " 2   asins                 34658 non-null  object \n",
      " 3   brand                 34660 non-null  object \n",
      " 4   categories            34660 non-null  object \n",
      " 5   keys                  34660 non-null  object \n",
      " 6   manufacturer          34660 non-null  object \n",
      " 7   reviews.date          34621 non-null  object \n",
      " 8   reviews.dateAdded     24039 non-null  object \n",
      " 9   reviews.dateSeen      34660 non-null  object \n",
      " 10  reviews.didPurchase   1 non-null      object \n",
      " 11  reviews.doRecommend   34066 non-null  object \n",
      " 12  reviews.id            1 non-null      float64\n",
      " 13  reviews.numHelpful    34131 non-null  float64\n",
      " 14  reviews.rating        34627 non-null  float64\n",
      " 15  reviews.sourceURLs    34660 non-null  object \n",
      " 16  reviews.text          34659 non-null  object \n",
      " 17  reviews.title         34655 non-null  object \n",
      " 18  reviews.userCity      0 non-null      float64\n",
      " 19  reviews.userProvince  0 non-null      float64\n",
      " 20  reviews.username      34658 non-null  object \n",
      "dtypes: float64(5), object(16)\n",
      "memory usage: 5.6+ MB\n"
     ]
    }
   ],
   "source": [
    "df.info()"
   ]
  },
  {
   "cell_type": "code",
   "execution_count": 7,
   "metadata": {},
   "outputs": [],
   "source": [
    "# Drop unnecessary columns\n",
    "df2 = df[['reviews.rating','reviews.text']]"
   ]
  },
  {
   "cell_type": "code",
   "execution_count": 8,
   "metadata": {},
   "outputs": [
    {
     "data": {
      "text/html": [
       "<div>\n",
       "<style scoped>\n",
       "    .dataframe tbody tr th:only-of-type {\n",
       "        vertical-align: middle;\n",
       "    }\n",
       "\n",
       "    .dataframe tbody tr th {\n",
       "        vertical-align: top;\n",
       "    }\n",
       "\n",
       "    .dataframe thead th {\n",
       "        text-align: right;\n",
       "    }\n",
       "</style>\n",
       "<table border=\"1\" class=\"dataframe\">\n",
       "  <thead>\n",
       "    <tr style=\"text-align: right;\">\n",
       "      <th></th>\n",
       "      <th>reviews.rating</th>\n",
       "      <th>reviews.text</th>\n",
       "    </tr>\n",
       "  </thead>\n",
       "  <tbody>\n",
       "    <tr>\n",
       "      <th>0</th>\n",
       "      <td>5.0</td>\n",
       "      <td>This product so far has not disappointed. My c...</td>\n",
       "    </tr>\n",
       "    <tr>\n",
       "      <th>1</th>\n",
       "      <td>5.0</td>\n",
       "      <td>great for beginner or experienced person. Boug...</td>\n",
       "    </tr>\n",
       "    <tr>\n",
       "      <th>2</th>\n",
       "      <td>5.0</td>\n",
       "      <td>Inexpensive tablet for him to use and learn on...</td>\n",
       "    </tr>\n",
       "    <tr>\n",
       "      <th>3</th>\n",
       "      <td>4.0</td>\n",
       "      <td>I've had my Fire HD 8 two weeks now and I love...</td>\n",
       "    </tr>\n",
       "    <tr>\n",
       "      <th>4</th>\n",
       "      <td>5.0</td>\n",
       "      <td>I bought this for my grand daughter when she c...</td>\n",
       "    </tr>\n",
       "  </tbody>\n",
       "</table>\n",
       "</div>"
      ],
      "text/plain": [
       "   reviews.rating                                       reviews.text\n",
       "0             5.0  This product so far has not disappointed. My c...\n",
       "1             5.0  great for beginner or experienced person. Boug...\n",
       "2             5.0  Inexpensive tablet for him to use and learn on...\n",
       "3             4.0  I've had my Fire HD 8 two weeks now and I love...\n",
       "4             5.0  I bought this for my grand daughter when she c..."
      ]
     },
     "execution_count": 8,
     "metadata": {},
     "output_type": "execute_result"
    }
   ],
   "source": [
    "df2.head()"
   ]
  },
  {
   "cell_type": "code",
   "execution_count": 9,
   "metadata": {
    "scrolled": true
   },
   "outputs": [
    {
     "name": "stdout",
     "output_type": "stream",
     "text": [
      "<class 'pandas.core.frame.DataFrame'>\n",
      "RangeIndex: 34660 entries, 0 to 34659\n",
      "Data columns (total 2 columns):\n",
      " #   Column          Non-Null Count  Dtype  \n",
      "---  ------          --------------  -----  \n",
      " 0   reviews.rating  34627 non-null  float64\n",
      " 1   reviews.text    34659 non-null  object \n",
      "dtypes: float64(1), object(1)\n",
      "memory usage: 541.7+ KB\n"
     ]
    }
   ],
   "source": [
    "df2.info()"
   ]
  },
  {
   "cell_type": "markdown",
   "metadata": {},
   "source": [
    "There is some missing values in both columns, the number is so small compared to the 34,000 examples in the dataset so we can remove them."
   ]
  },
  {
   "cell_type": "code",
   "execution_count": 10,
   "metadata": {
    "scrolled": true
   },
   "outputs": [],
   "source": [
    "df2.dropna(inplace = True)"
   ]
  },
  {
   "cell_type": "code",
   "execution_count": 11,
   "metadata": {},
   "outputs": [],
   "source": [
    "df2.rename(columns = {'reviews.rating' : 'rating', 'reviews.text' : 'text'}, inplace = True)"
   ]
  },
  {
   "cell_type": "code",
   "execution_count": 12,
   "metadata": {},
   "outputs": [
    {
     "name": "stdout",
     "output_type": "stream",
     "text": [
      "<class 'pandas.core.frame.DataFrame'>\n",
      "Int64Index: 34626 entries, 0 to 34659\n",
      "Data columns (total 2 columns):\n",
      " #   Column  Non-Null Count  Dtype  \n",
      "---  ------  --------------  -----  \n",
      " 0   rating  34626 non-null  float64\n",
      " 1   text    34626 non-null  object \n",
      "dtypes: float64(1), object(1)\n",
      "memory usage: 811.5+ KB\n"
     ]
    }
   ],
   "source": [
    "df2.info()"
   ]
  },
  {
   "cell_type": "markdown",
   "metadata": {},
   "source": [
    "# Natural Language Processing"
   ]
  },
  {
   "cell_type": "markdown",
   "metadata": {},
   "source": [
    "## 1. Feature Engineering and Selection"
   ]
  },
  {
   "cell_type": "markdown",
   "metadata": {},
   "source": [
    "Machine Learning models take numerical values as input. Our dataset is a list of sentences, so in order for our algorithm to extract patterns from the data, we first need to find a way to represent it in a way that our algorithm can understand, i.e. as a list of numbers.\n",
    "\n",
    "We will implement CounterVectorizer, TF-IDF, Hash Vectorizer, Word2Vec, adding most common words into the stopwords list, SMOTE, PCA, and Truncated SVD techniques into our models in the following sections as a part of feature engineering and selection."
   ]
  },
  {
   "cell_type": "markdown",
   "metadata": {},
   "source": [
    "## 2. Data Preprocessing"
   ]
  },
  {
   "cell_type": "markdown",
   "metadata": {},
   "source": [
    "### Cleaning the text"
   ]
  },
  {
   "cell_type": "markdown",
   "metadata": {},
   "source": [
    "1- Removing stop words first."
   ]
  },
  {
   "cell_type": "code",
   "execution_count": 13,
   "metadata": {},
   "outputs": [],
   "source": [
    "stop = stopwords.words('english')\n",
    "df2['text'] = df2['text'].apply(lambda x: ' '.join([word for word in str(x).lower().split() if word not in (stop)]))"
   ]
  },
  {
   "cell_type": "code",
   "execution_count": 14,
   "metadata": {},
   "outputs": [
    {
     "data": {
      "text/html": [
       "<div>\n",
       "<style scoped>\n",
       "    .dataframe tbody tr th:only-of-type {\n",
       "        vertical-align: middle;\n",
       "    }\n",
       "\n",
       "    .dataframe tbody tr th {\n",
       "        vertical-align: top;\n",
       "    }\n",
       "\n",
       "    .dataframe thead th {\n",
       "        text-align: right;\n",
       "    }\n",
       "</style>\n",
       "<table border=\"1\" class=\"dataframe\">\n",
       "  <thead>\n",
       "    <tr style=\"text-align: right;\">\n",
       "      <th></th>\n",
       "      <th>rating</th>\n",
       "      <th>text</th>\n",
       "    </tr>\n",
       "  </thead>\n",
       "  <tbody>\n",
       "    <tr>\n",
       "      <th>0</th>\n",
       "      <td>5.0</td>\n",
       "      <td>product far disappointed. children love use li...</td>\n",
       "    </tr>\n",
       "    <tr>\n",
       "      <th>1</th>\n",
       "      <td>5.0</td>\n",
       "      <td>great beginner experienced person. bought gift...</td>\n",
       "    </tr>\n",
       "    <tr>\n",
       "      <th>2</th>\n",
       "      <td>5.0</td>\n",
       "      <td>inexpensive tablet use learn on, step nabi. th...</td>\n",
       "    </tr>\n",
       "    <tr>\n",
       "      <th>3</th>\n",
       "      <td>4.0</td>\n",
       "      <td>i've fire hd 8 two weeks love it. tablet great...</td>\n",
       "    </tr>\n",
       "    <tr>\n",
       "      <th>4</th>\n",
       "      <td>5.0</td>\n",
       "      <td>bought grand daughter comes visit. set user, e...</td>\n",
       "    </tr>\n",
       "  </tbody>\n",
       "</table>\n",
       "</div>"
      ],
      "text/plain": [
       "   rating                                               text\n",
       "0     5.0  product far disappointed. children love use li...\n",
       "1     5.0  great beginner experienced person. bought gift...\n",
       "2     5.0  inexpensive tablet use learn on, step nabi. th...\n",
       "3     4.0  i've fire hd 8 two weeks love it. tablet great...\n",
       "4     5.0  bought grand daughter comes visit. set user, e..."
      ]
     },
     "execution_count": 14,
     "metadata": {},
     "output_type": "execute_result"
    }
   ],
   "source": [
    "df2.head()"
   ]
  },
  {
   "cell_type": "markdown",
   "metadata": {},
   "source": [
    "2- Lemmatization"
   ]
  },
  {
   "cell_type": "code",
   "execution_count": 15,
   "metadata": {},
   "outputs": [],
   "source": [
    "w_tokenizer = nltk.tokenize.WhitespaceTokenizer()\n",
    "lemmatizer = nltk.stem.WordNetLemmatizer()\n",
    "\n",
    "def lemmatize_text(text):\n",
    "    return [lemmatizer.lemmatize(w) for w in w_tokenizer.tokenize(text)]\n",
    "\n",
    "df2['text'] = df2.text.apply(lemmatize_text)\n",
    "df2['text'] = df2.text.apply(lambda x: ' '.join(x))"
   ]
  },
  {
   "cell_type": "code",
   "execution_count": 16,
   "metadata": {
    "scrolled": false
   },
   "outputs": [
    {
     "data": {
      "text/html": [
       "<div>\n",
       "<style scoped>\n",
       "    .dataframe tbody tr th:only-of-type {\n",
       "        vertical-align: middle;\n",
       "    }\n",
       "\n",
       "    .dataframe tbody tr th {\n",
       "        vertical-align: top;\n",
       "    }\n",
       "\n",
       "    .dataframe thead th {\n",
       "        text-align: right;\n",
       "    }\n",
       "</style>\n",
       "<table border=\"1\" class=\"dataframe\">\n",
       "  <thead>\n",
       "    <tr style=\"text-align: right;\">\n",
       "      <th></th>\n",
       "      <th>rating</th>\n",
       "      <th>text</th>\n",
       "    </tr>\n",
       "  </thead>\n",
       "  <tbody>\n",
       "    <tr>\n",
       "      <th>0</th>\n",
       "      <td>5.0</td>\n",
       "      <td>product far disappointed. child love use like ...</td>\n",
       "    </tr>\n",
       "    <tr>\n",
       "      <th>1</th>\n",
       "      <td>5.0</td>\n",
       "      <td>great beginner experienced person. bought gift...</td>\n",
       "    </tr>\n",
       "    <tr>\n",
       "      <th>2</th>\n",
       "      <td>5.0</td>\n",
       "      <td>inexpensive tablet use learn on, step nabi. th...</td>\n",
       "    </tr>\n",
       "    <tr>\n",
       "      <th>3</th>\n",
       "      <td>4.0</td>\n",
       "      <td>i've fire hd 8 two week love it. tablet great ...</td>\n",
       "    </tr>\n",
       "    <tr>\n",
       "      <th>4</th>\n",
       "      <td>5.0</td>\n",
       "      <td>bought grand daughter come visit. set user, en...</td>\n",
       "    </tr>\n",
       "  </tbody>\n",
       "</table>\n",
       "</div>"
      ],
      "text/plain": [
       "   rating                                               text\n",
       "0     5.0  product far disappointed. child love use like ...\n",
       "1     5.0  great beginner experienced person. bought gift...\n",
       "2     5.0  inexpensive tablet use learn on, step nabi. th...\n",
       "3     4.0  i've fire hd 8 two week love it. tablet great ...\n",
       "4     5.0  bought grand daughter come visit. set user, en..."
      ]
     },
     "execution_count": 16,
     "metadata": {},
     "output_type": "execute_result"
    }
   ],
   "source": [
    "df2.head()"
   ]
  },
  {
   "cell_type": "markdown",
   "metadata": {},
   "source": [
    "Now our text is clean and ready to be used."
   ]
  },
  {
   "cell_type": "markdown",
   "metadata": {},
   "source": [
    "### Separating Response Variable and Feature"
   ]
  },
  {
   "cell_type": "markdown",
   "metadata": {},
   "source": [
    "We will consider ratings 4 and 5 to be positive and 1, 2, and 3 to be negative"
   ]
  },
  {
   "cell_type": "code",
   "execution_count": 17,
   "metadata": {},
   "outputs": [],
   "source": [
    "df2['class'] = df2['rating'].apply(lambda x: 0 if x < 4 else 1)"
   ]
  },
  {
   "cell_type": "code",
   "execution_count": 18,
   "metadata": {},
   "outputs": [],
   "source": [
    "# Splitting the Data Set into Train and Test Sets\n",
    "X = df2['text']\n",
    "y = df2['class']"
   ]
  },
  {
   "cell_type": "code",
   "execution_count": 19,
   "metadata": {},
   "outputs": [
    {
     "data": {
      "text/plain": [
       "1    32315\n",
       "0     2311\n",
       "Name: class, dtype: int64"
      ]
     },
     "execution_count": 19,
     "metadata": {},
     "output_type": "execute_result"
    }
   ],
   "source": [
    "df2['class'].value_counts()"
   ]
  },
  {
   "cell_type": "markdown",
   "metadata": {},
   "source": [
    "### Splitting Dataset into Train and Test Set"
   ]
  },
  {
   "cell_type": "markdown",
   "metadata": {},
   "source": [
    "We split our data in to a training set used to fit our model and a test set to see how well it generalizes to unseen data."
   ]
  },
  {
   "cell_type": "code",
   "execution_count": 20,
   "metadata": {},
   "outputs": [],
   "source": [
    "# Splitting Dataset into train and test set \n",
    "X_train, X_test, y_train, y_test = train_test_split(X, y, test_size=0.25)"
   ]
  },
  {
   "cell_type": "code",
   "execution_count": 21,
   "metadata": {},
   "outputs": [
    {
     "name": "stdout",
     "output_type": "stream",
     "text": [
      "Train Set Shape\t\t:(25969,)\n",
      "Test Set Shape\t\t:(8657,)\n"
     ]
    }
   ],
   "source": [
    "# Print train and test set shape\n",
    "print ('Train Set Shape\\t\\t:{}\\nTest Set Shape\\t\\t:{}'.format(X_train.shape, X_test.shape))"
   ]
  },
  {
   "cell_type": "markdown",
   "metadata": {},
   "source": [
    "## 3. Selecting the Right Evaluation Metric"
   ]
  },
  {
   "cell_type": "markdown",
   "metadata": {},
   "source": [
    "It is clear that our dataset is imbalanced, so we need to pay more attention to the smaller class (negative rating). I will choose the f1 score as it combines both precision and recall."
   ]
  },
  {
   "cell_type": "markdown",
   "metadata": {},
   "source": [
    "### Confusion Matrix Plot Function"
   ]
  },
  {
   "cell_type": "markdown",
   "metadata": {},
   "source": [
    "Understanding the types of errors our model makes, and least desirable are important . A good way to visualize that information is using a Confusion Matrix, which compares the predictions our model makes with the true label. With that in mind, we used confusion matrix besides our evaluation metric (f1 score)."
   ]
  },
  {
   "cell_type": "code",
   "execution_count": 22,
   "metadata": {},
   "outputs": [],
   "source": [
    "def plot_confusion_matrix(cm, classes,\n",
    "                          normalize=False,\n",
    "                          title = 'Confusion matrix',\n",
    "                          cmap = plt.cm.ocean):\n",
    "    \"\"\"\n",
    "    Create a confusion matrix plot for 'good' and 'bad' rating values \n",
    "    \"\"\"\n",
    "    if normalize:\n",
    "        cm = cm.astype('float') / cm.sum(axis = 1)[:, np.newaxis]\n",
    "    plt.imshow(cm, interpolation = 'nearest', cmap = cmap)\n",
    "    plt.title(title, fontsize = 20)\n",
    "    plt.colorbar()\n",
    "    tick_marks = np.arange(len(classes))\n",
    "    plt.xticks(tick_marks, classes, fontsize = 20)\n",
    "    plt.yticks(tick_marks, classes, fontsize = 20)\n",
    "    \n",
    "    fmt = '.2f' if normalize else 'd'\n",
    "    thresh = cm.max() / 2.\n",
    "\n",
    "    for i, j in itertools.product(range(cm.shape[0]), range(cm.shape[1])):\n",
    "        plt.text(j, i, format(cm[i, j], fmt), horizontalalignment = \"center\", \n",
    "                 color = \"white\" if cm[i, j] < thresh else \"black\", fontsize = 40)\n",
    "    \n",
    "    plt.tight_layout()\n",
    "    plt.ylabel('True Label', fontsize = 30)\n",
    "    plt.xlabel('Predicted Label', fontsize = 30)\n",
    "\n",
    "    return plt"
   ]
  },
  {
   "cell_type": "code",
   "execution_count": 23,
   "metadata": {},
   "outputs": [],
   "source": [
    "def disp_confusion_matrix(y_pred, model_name, vector = 'CounterVectorizing'):\n",
    "    \"\"\"\n",
    "    Display confusion matrix for selected model with countVectorizer\n",
    "    \"\"\"\n",
    "    cm = confusion_matrix(y_test, y_pred)\n",
    "    fig = plt.figure(figsize=(10, 10))\n",
    "    plot = plot_confusion_matrix(cm, classes=['Bad','Good'], normalize=False, \n",
    "                                 title = model_name + \" \" + 'with' + \" \" + vector + \" \"+ '\\nConfusion Matrix')\n",
    "    plt.show()"
   ]
  },
  {
   "cell_type": "markdown",
   "metadata": {},
   "source": [
    "## 4. Modelling"
   ]
  },
  {
   "cell_type": "markdown",
   "metadata": {},
   "source": [
    "This is a supervised binary classification problem. We are trying to predict the sentiment based on the reviews left by customers who bought headphones products in Amazon e-commerce online platform. We used Python’s Scikit Learn libraries to solve the problem. In this context, we implemented Logistic Regression, Random Forest, Naive Bayes, XGBOOST, and Catboost algorithms. Besides that, I implemented deep learning technique with Keras.\n",
    "\n",
    "Since the ratings of the reviews were not distributed normally, I decided to decrease rating classes from 5 to 2 by merging Rating 1-2 as ‘Bad’ and Rating 3-4-5 as 'Good'.\n",
    "\n",
    "For feature selection, I applied threshold for word occurence with using min_df/max_df, PCA and Singular Value Decomposition.\n",
    "\n",
    "For feature engineering, I applied CountVectorizer, TF-IDF, Hashing Vectorizer and Word2Vec to the text data in order to turn a collection of text documents into numerical feature vectors."
   ]
  },
  {
   "cell_type": "markdown",
   "metadata": {},
   "source": [
    "## 4.1 CountVectorizer Bag of Words"
   ]
  },
  {
   "cell_type": "markdown",
   "metadata": {},
   "source": [
    "We call vectorization the general process of turning a collection of text documents into numerical feature vectors. This specific strategy (tokenization, counting and normalization) is called the Bag of Words or “Bag of n-grams” representation. Documents are described by word occurrences while completely ignoring the relative position information of the words in the document.\n",
    "\n",
    "\"CountVectorizer\" implements both tokenization and occurrence counting in a single class."
   ]
  },
  {
   "cell_type": "code",
   "execution_count": 24,
   "metadata": {},
   "outputs": [],
   "source": [
    "# Create the word vector with CountVectorizer\n",
    "count_vect = CountVectorizer(ngram_range=(1,1))\n",
    "count_vect_train = count_vect.fit_transform(X_train)\n",
    "count_vect_train = count_vect_train.toarray()\n",
    "count_vect_test = count_vect.transform(X_test)\n",
    "count_vect_test = count_vect_test.toarray()"
   ]
  },
  {
   "cell_type": "code",
   "execution_count": 25,
   "metadata": {},
   "outputs": [
    {
     "name": "stdout",
     "output_type": "stream",
     "text": [
      "Vocabulary length : 11773\n"
     ]
    }
   ],
   "source": [
    "# Print vocabulary length\n",
    "print('Vocabulary length :', len(count_vect.get_feature_names()))"
   ]
  },
  {
   "cell_type": "code",
   "execution_count": 26,
   "metadata": {},
   "outputs": [],
   "source": [
    "# Assign feature names of vector into a variable\n",
    "vocab = count_vect.get_feature_names()"
   ]
  },
  {
   "cell_type": "code",
   "execution_count": 27,
   "metadata": {},
   "outputs": [
    {
     "data": {
      "text/html": [
       "<div>\n",
       "<style scoped>\n",
       "    .dataframe tbody tr th:only-of-type {\n",
       "        vertical-align: middle;\n",
       "    }\n",
       "\n",
       "    .dataframe tbody tr th {\n",
       "        vertical-align: top;\n",
       "    }\n",
       "\n",
       "    .dataframe thead th {\n",
       "        text-align: right;\n",
       "    }\n",
       "</style>\n",
       "<table border=\"1\" class=\"dataframe\">\n",
       "  <thead>\n",
       "    <tr style=\"text-align: right;\">\n",
       "      <th></th>\n",
       "      <th>00</th>\n",
       "      <th>000</th>\n",
       "      <th>000s</th>\n",
       "      <th>01</th>\n",
       "      <th>04</th>\n",
       "      <th>05</th>\n",
       "      <th>06</th>\n",
       "      <th>0ghz</th>\n",
       "      <th>0ne</th>\n",
       "      <th>10</th>\n",
       "      <th>...</th>\n",
       "      <th>zinio</th>\n",
       "      <th>zip</th>\n",
       "      <th>zippy</th>\n",
       "      <th>zombies</th>\n",
       "      <th>zone</th>\n",
       "      <th>zones</th>\n",
       "      <th>zoo</th>\n",
       "      <th>zoom</th>\n",
       "      <th>zooming</th>\n",
       "      <th>zwave</th>\n",
       "    </tr>\n",
       "  </thead>\n",
       "  <tbody>\n",
       "    <tr>\n",
       "      <th>0</th>\n",
       "      <td>0</td>\n",
       "      <td>0</td>\n",
       "      <td>0</td>\n",
       "      <td>0</td>\n",
       "      <td>0</td>\n",
       "      <td>0</td>\n",
       "      <td>0</td>\n",
       "      <td>0</td>\n",
       "      <td>0</td>\n",
       "      <td>0</td>\n",
       "      <td>...</td>\n",
       "      <td>0</td>\n",
       "      <td>0</td>\n",
       "      <td>0</td>\n",
       "      <td>0</td>\n",
       "      <td>0</td>\n",
       "      <td>0</td>\n",
       "      <td>0</td>\n",
       "      <td>0</td>\n",
       "      <td>0</td>\n",
       "      <td>0</td>\n",
       "    </tr>\n",
       "    <tr>\n",
       "      <th>1</th>\n",
       "      <td>0</td>\n",
       "      <td>0</td>\n",
       "      <td>0</td>\n",
       "      <td>0</td>\n",
       "      <td>0</td>\n",
       "      <td>0</td>\n",
       "      <td>0</td>\n",
       "      <td>0</td>\n",
       "      <td>0</td>\n",
       "      <td>0</td>\n",
       "      <td>...</td>\n",
       "      <td>0</td>\n",
       "      <td>0</td>\n",
       "      <td>0</td>\n",
       "      <td>0</td>\n",
       "      <td>0</td>\n",
       "      <td>0</td>\n",
       "      <td>0</td>\n",
       "      <td>0</td>\n",
       "      <td>0</td>\n",
       "      <td>0</td>\n",
       "    </tr>\n",
       "    <tr>\n",
       "      <th>2</th>\n",
       "      <td>0</td>\n",
       "      <td>0</td>\n",
       "      <td>0</td>\n",
       "      <td>0</td>\n",
       "      <td>0</td>\n",
       "      <td>0</td>\n",
       "      <td>0</td>\n",
       "      <td>0</td>\n",
       "      <td>0</td>\n",
       "      <td>0</td>\n",
       "      <td>...</td>\n",
       "      <td>0</td>\n",
       "      <td>0</td>\n",
       "      <td>0</td>\n",
       "      <td>0</td>\n",
       "      <td>0</td>\n",
       "      <td>0</td>\n",
       "      <td>0</td>\n",
       "      <td>0</td>\n",
       "      <td>0</td>\n",
       "      <td>0</td>\n",
       "    </tr>\n",
       "    <tr>\n",
       "      <th>3</th>\n",
       "      <td>0</td>\n",
       "      <td>0</td>\n",
       "      <td>0</td>\n",
       "      <td>0</td>\n",
       "      <td>0</td>\n",
       "      <td>0</td>\n",
       "      <td>0</td>\n",
       "      <td>0</td>\n",
       "      <td>0</td>\n",
       "      <td>0</td>\n",
       "      <td>...</td>\n",
       "      <td>0</td>\n",
       "      <td>0</td>\n",
       "      <td>0</td>\n",
       "      <td>0</td>\n",
       "      <td>0</td>\n",
       "      <td>0</td>\n",
       "      <td>0</td>\n",
       "      <td>0</td>\n",
       "      <td>0</td>\n",
       "      <td>0</td>\n",
       "    </tr>\n",
       "    <tr>\n",
       "      <th>4</th>\n",
       "      <td>0</td>\n",
       "      <td>0</td>\n",
       "      <td>0</td>\n",
       "      <td>0</td>\n",
       "      <td>0</td>\n",
       "      <td>0</td>\n",
       "      <td>0</td>\n",
       "      <td>0</td>\n",
       "      <td>0</td>\n",
       "      <td>0</td>\n",
       "      <td>...</td>\n",
       "      <td>0</td>\n",
       "      <td>0</td>\n",
       "      <td>0</td>\n",
       "      <td>0</td>\n",
       "      <td>0</td>\n",
       "      <td>0</td>\n",
       "      <td>0</td>\n",
       "      <td>0</td>\n",
       "      <td>0</td>\n",
       "      <td>0</td>\n",
       "    </tr>\n",
       "  </tbody>\n",
       "</table>\n",
       "<p>5 rows × 11773 columns</p>\n",
       "</div>"
      ],
      "text/plain": [
       "   00  000  000s  01  04  05  06  0ghz  0ne  10  ...  zinio  zip  zippy  \\\n",
       "0   0    0     0   0   0   0   0     0    0   0  ...      0    0      0   \n",
       "1   0    0     0   0   0   0   0     0    0   0  ...      0    0      0   \n",
       "2   0    0     0   0   0   0   0     0    0   0  ...      0    0      0   \n",
       "3   0    0     0   0   0   0   0     0    0   0  ...      0    0      0   \n",
       "4   0    0     0   0   0   0   0     0    0   0  ...      0    0      0   \n",
       "\n",
       "   zombies  zone  zones  zoo  zoom  zooming  zwave  \n",
       "0        0     0      0    0     0        0      0  \n",
       "1        0     0      0    0     0        0      0  \n",
       "2        0     0      0    0     0        0      0  \n",
       "3        0     0      0    0     0        0      0  \n",
       "4        0     0      0    0     0        0      0  \n",
       "\n",
       "[5 rows x 11773 columns]"
      ]
     },
     "execution_count": 27,
     "metadata": {},
     "output_type": "execute_result"
    }
   ],
   "source": [
    "# Dataframe for train countvectorizer dataset\n",
    "pd.DataFrame(count_vect_train, columns = vocab).head()"
   ]
  },
  {
   "cell_type": "markdown",
   "metadata": {},
   "source": [
    "### Creating a function for applying different algorithms"
   ]
  },
  {
   "cell_type": "code",
   "execution_count": 28,
   "metadata": {},
   "outputs": [],
   "source": [
    "\n",
    "def modeling(Model, Xtrain = count_vect_train, Xtest = count_vect_test):\n",
    "    \"\"\"\n",
    "    This function apply countVectorizer with machine learning algorithms. \n",
    "    \"\"\"\n",
    "    \n",
    "    # Instantiate the classifier: model\n",
    "    model = Model\n",
    "    \n",
    "    # Fitting classifier to the Training set (all features)\n",
    "    model.fit(Xtrain, y_train)\n",
    "    \n",
    "    global y_pred\n",
    "    # Predicting the Test set results\n",
    "    y_pred = model.predict(Xtest)\n",
    "    \n",
    "    # Assign f1 score to a variable\n",
    "    score = f1_score(y_test, y_pred, average = 'weighted')\n",
    "    \n",
    "    # Printing evaluation metric (f1-score) \n",
    "    print(\"f1 score: {}\".format(score))"
   ]
  },
  {
   "cell_type": "markdown",
   "metadata": {},
   "source": [
    "### Dummy Classifier"
   ]
  },
  {
   "cell_type": "code",
   "execution_count": 46,
   "metadata": {},
   "outputs": [
    {
     "data": {
      "text/plain": [
       "1    8063\n",
       "0     594\n",
       "Name: class, dtype: int64"
      ]
     },
     "execution_count": 46,
     "metadata": {},
     "output_type": "execute_result"
    }
   ],
   "source": [
    "y_test.value_counts()"
   ]
  },
  {
   "cell_type": "code",
   "execution_count": 47,
   "metadata": {},
   "outputs": [
    {
     "name": "stdout",
     "output_type": "stream",
     "text": [
      "f1 score: 0.873323181542738\n"
     ]
    }
   ],
   "source": [
    "clf = DummyClassifier(strategy = 'stratified', random_state =42)\n",
    "clf.fit(X_train, y_train)\n",
    "y_pred = clf.predict(X_test)\n",
    "score = f1_score(y_test, y_pred, average = 'weighted')\n",
    "    \n",
    "# Printing evaluation metric (f1-score) \n",
    "print(\"f1 score: {}\".format(score))"
   ]
  },
  {
   "cell_type": "code",
   "execution_count": 48,
   "metadata": {},
   "outputs": [
    {
     "name": "stdout",
     "output_type": "stream",
     "text": [
      "              precision    recall  f1-score   support\n",
      "\n",
      "           0       0.07      0.07      0.07       594\n",
      "           1       0.93      0.93      0.93      8063\n",
      "\n",
      "    accuracy                           0.87      8657\n",
      "   macro avg       0.50      0.50      0.50      8657\n",
      "weighted avg       0.87      0.87      0.87      8657\n",
      "\n"
     ]
    }
   ],
   "source": [
    "# Compute and print the classification report\n",
    "print(classification_report(y_test, y_pred))"
   ]
  },
  {
   "cell_type": "markdown",
   "metadata": {},
   "source": [
    "### 4.1.1 Logistic Regression with CountVectorizer"
   ]
  },
  {
   "cell_type": "code",
   "execution_count": 50,
   "metadata": {},
   "outputs": [
    {
     "name": "stdout",
     "output_type": "stream",
     "text": [
      "f1 score: 0.8962172837390062\n"
     ]
    }
   ],
   "source": [
    "# Call the modeling function for logistic regression with countvectorizer and print f1 score\n",
    "modeling(LogisticRegression(class_weight = 'balanced', c = 0.1))\n",
    "\n",
    "# Assign y_pred to a variable for further process\n",
    "y_pred_cv_logreg = y_pred"
   ]
  },
  {
   "cell_type": "markdown",
   "metadata": {},
   "source": [
    "#### Classification Report"
   ]
  },
  {
   "cell_type": "code",
   "execution_count": 51,
   "metadata": {},
   "outputs": [
    {
     "name": "stdout",
     "output_type": "stream",
     "text": [
      "              precision    recall  f1-score   support\n",
      "\n",
      "           0       0.31      0.61      0.41       594\n",
      "           1       0.97      0.90      0.93      8063\n",
      "\n",
      "    accuracy                           0.88      8657\n",
      "   macro avg       0.64      0.75      0.67      8657\n",
      "weighted avg       0.92      0.88      0.90      8657\n",
      "\n"
     ]
    }
   ],
   "source": [
    "# Compute and print the classification report\n",
    "print(classification_report(y_test, y_pred_cv_logreg))"
   ]
  },
  {
   "cell_type": "markdown",
   "metadata": {},
   "source": [
    "#### Confusion Matrix"
   ]
  },
  {
   "cell_type": "code",
   "execution_count": 53,
   "metadata": {
    "scrolled": true
   },
   "outputs": [
    {
     "data": {
      "image/png": "[encoded data removed]",
      "text/plain": [
       "<Figure size 720x720 with 2 Axes>"
      ]
     },
     "metadata": {
      "needs_background": "light"
     },
     "output_type": "display_data"
    }
   ],
   "source": [
    "# Print confusion matrix for logistic regression with countvectorizer\n",
    "disp_confusion_matrix(y_pred_cv_logreg, \"Logistic Regression\")"
   ]
  },
  {
   "cell_type": "markdown",
   "metadata": {},
   "source": [
    "### 4.1.2 Random Forest with CountVectorizer¶"
   ]
  },
  {
   "cell_type": "code",
   "execution_count": 57,
   "metadata": {},
   "outputs": [
    {
     "name": "stdout",
     "output_type": "stream",
     "text": [
      "f1 score: 0.9014343884519902\n"
     ]
    }
   ],
   "source": [
    "# Call the modeling function for random forest classifier with countvectorizer and print f1 score\n",
    "modeling(RandomForestClassifier(class_weight = 'balanced', n_estimators = 100, random_state = 42))\n",
    "\n",
    "# Assign y_pred to a variable for further process\n",
    "y_pred_cv_rf = y_pred"
   ]
  },
  {
   "cell_type": "markdown",
   "metadata": {},
   "source": [
    "#### Classification Report"
   ]
  },
  {
   "cell_type": "code",
   "execution_count": 58,
   "metadata": {},
   "outputs": [
    {
     "name": "stdout",
     "output_type": "stream",
     "text": [
      "              precision    recall  f1-score   support\n",
      "\n",
      "           0       0.62      0.02      0.04       594\n",
      "           1       0.93      1.00      0.96      8063\n",
      "\n",
      "    accuracy                           0.93      8657\n",
      "   macro avg       0.78      0.51      0.50      8657\n",
      "weighted avg       0.91      0.93      0.90      8657\n",
      "\n"
     ]
    }
   ],
   "source": [
    "# Compute and print the classification report\n",
    "print(classification_report(y_test, y_pred_cv_rf))"
   ]
  },
  {
   "cell_type": "markdown",
   "metadata": {},
   "source": [
    "#### Confusion Matrix"
   ]
  },
  {
   "cell_type": "code",
   "execution_count": 59,
   "metadata": {},
   "outputs": [
    {
     "data": {
      "image/png": "[encoded data removed]",
      "text/plain": [
       "<Figure size 720x720 with 2 Axes>"
      ]
     },
     "metadata": {
      "needs_background": "light"
     },
     "output_type": "display_data"
    }
   ],
   "source": [
    "# Print confusion matrix for random forest classifier with countVectorizer\n",
    "disp_confusion_matrix(y_pred_cv_rf, \"Random Forest\")"
   ]
  },
  {
   "cell_type": "markdown",
   "metadata": {},
   "source": [
    "### 4.1.3 Naive Bayes with CountVectorizer"
   ]
  },
  {
   "cell_type": "code",
   "execution_count": 60,
   "metadata": {},
   "outputs": [
    {
     "name": "stdout",
     "output_type": "stream",
     "text": [
      "f1 score: 0.9245113899469843\n"
     ]
    }
   ],
   "source": [
    "# Call the modeling function for naive bayes with countvectorizer and print f1 score\n",
    "modeling(MultinomialNB())\n",
    "\n",
    "# Assign y_pred to a variable for further process\n",
    "y_pred_cv_nb = y_pred"
   ]
  },
  {
   "cell_type": "markdown",
   "metadata": {},
   "source": [
    "#### Classification Report"
   ]
  },
  {
   "cell_type": "code",
   "execution_count": 61,
   "metadata": {},
   "outputs": [
    {
     "name": "stdout",
     "output_type": "stream",
     "text": [
      "              precision    recall  f1-score   support\n",
      "\n",
      "           0       0.56      0.27      0.36       594\n",
      "           1       0.95      0.98      0.97      8063\n",
      "\n",
      "    accuracy                           0.94      8657\n",
      "   macro avg       0.75      0.63      0.66      8657\n",
      "weighted avg       0.92      0.94      0.92      8657\n",
      "\n"
     ]
    }
   ],
   "source": [
    "# Compute and print the classification report\n",
    "print(classification_report(y_test, y_pred_cv_nb))"
   ]
  },
  {
   "cell_type": "markdown",
   "metadata": {},
   "source": [
    "#### Confusion Matrix"
   ]
  },
  {
   "cell_type": "code",
   "execution_count": 62,
   "metadata": {},
   "outputs": [
    {
     "data": {
      "image/png": "[encoded data removed]",
      "text/plain": [
       "<Figure size 720x720 with 2 Axes>"
      ]
     },
     "metadata": {
      "needs_background": "light"
     },
     "output_type": "display_data"
    }
   ],
   "source": [
    "# Print confusion matrix for naive bayes with countVectorizer\n",
    "disp_confusion_matrix(y_pred_cv_nb, \"Naive Bayes\")"
   ]
  },
  {
   "cell_type": "markdown",
   "metadata": {},
   "source": [
    "### 4.1.4 XGBoost with CountVectorizer"
   ]
  },
  {
   "cell_type": "code",
   "execution_count": 63,
   "metadata": {},
   "outputs": [
    {
     "name": "stdout",
     "output_type": "stream",
     "text": [
      "[10:51:13] WARNING: C:/Users/Administrator/workspace/xgboost-win64_release_1.3.0/src/learner.cc:1061: Starting in XGBoost 1.3.0, the default evaluation metric used with the objective 'binary:logistic' was changed from 'error' to 'logloss'. Explicitly set eval_metric if you'd like to restore the old behavior.\n",
      "f1 score: 0.9218018733563752\n"
     ]
    }
   ],
   "source": [
    "# Call the modeling function for XGBoost with countvectorizer and print f1 score\n",
    "modeling(XGBClassifier())\n",
    "\n",
    "# Assign y_pred to a variable for further process\n",
    "y_pred_cv_xgb = y_pred"
   ]
  },
  {
   "cell_type": "markdown",
   "metadata": {},
   "source": [
    "#### Classification Report"
   ]
  },
  {
   "cell_type": "code",
   "execution_count": 64,
   "metadata": {},
   "outputs": [
    {
     "name": "stdout",
     "output_type": "stream",
     "text": [
      "              precision    recall  f1-score   support\n",
      "\n",
      "           0       0.62      0.21      0.31       594\n",
      "           1       0.94      0.99      0.97      8063\n",
      "\n",
      "    accuracy                           0.94      8657\n",
      "   macro avg       0.78      0.60      0.64      8657\n",
      "weighted avg       0.92      0.94      0.92      8657\n",
      "\n"
     ]
    }
   ],
   "source": [
    "# Compute and print the classification report\n",
    "print(classification_report(y_test, y_pred_cv_xgb))"
   ]
  },
  {
   "cell_type": "markdown",
   "metadata": {},
   "source": [
    "#### Confusion Matrix"
   ]
  },
  {
   "cell_type": "code",
   "execution_count": 65,
   "metadata": {},
   "outputs": [
    {
     "data": {
      "image/png": "[encoded data removed]",
      "text/plain": [
       "<Figure size 720x720 with 2 Axes>"
      ]
     },
     "metadata": {
      "needs_background": "light"
     },
     "output_type": "display_data"
    }
   ],
   "source": [
    "# Print confusion matrix for gradient boosting with countVectorizer\n",
    "disp_confusion_matrix(y_pred_cv_xgb, \"XGBoost\")"
   ]
  },
  {
   "cell_type": "markdown",
   "metadata": {},
   "source": [
    "### 4.1.5 CatBoost with CountVectorizer"
   ]
  },
  {
   "cell_type": "code",
   "execution_count": 66,
   "metadata": {},
   "outputs": [
    {
     "name": "stdout",
     "output_type": "stream",
     "text": [
      "0:\tlearn: 0.2544125\ttotal: 2.06s\tremaining: 3m 23s\n",
      "1:\tlearn: 0.2328321\ttotal: 2.12s\tremaining: 1m 43s\n",
      "2:\tlearn: 0.2263302\ttotal: 2.17s\tremaining: 1m 10s\n",
      "3:\tlearn: 0.2198419\ttotal: 2.35s\tremaining: 56.4s\n",
      "4:\tlearn: 0.2113002\ttotal: 2.44s\tremaining: 46.4s\n",
      "5:\tlearn: 0.2089023\ttotal: 2.76s\tremaining: 43.2s\n",
      "6:\tlearn: 0.2040841\ttotal: 2.85s\tremaining: 37.9s\n",
      "7:\tlearn: 0.2025534\ttotal: 2.93s\tremaining: 33.7s\n",
      "8:\tlearn: 0.2014072\ttotal: 3.02s\tremaining: 30.6s\n",
      "9:\tlearn: 0.2003764\ttotal: 3.11s\tremaining: 28s\n",
      "10:\tlearn: 0.1991134\ttotal: 3.17s\tremaining: 25.7s\n",
      "11:\tlearn: 0.1982859\ttotal: 3.23s\tremaining: 23.6s\n",
      "12:\tlearn: 0.1972040\ttotal: 3.28s\tremaining: 22s\n",
      "13:\tlearn: 0.1963752\ttotal: 3.33s\tremaining: 20.5s\n",
      "14:\tlearn: 0.1945655\ttotal: 3.38s\tremaining: 19.2s\n",
      "15:\tlearn: 0.1936347\ttotal: 3.44s\tremaining: 18s\n",
      "16:\tlearn: 0.1927792\ttotal: 3.48s\tremaining: 17s\n",
      "17:\tlearn: 0.1919513\ttotal: 3.54s\tremaining: 16.1s\n",
      "18:\tlearn: 0.1914928\ttotal: 3.6s\tremaining: 15.3s\n",
      "19:\tlearn: 0.1910189\ttotal: 3.65s\tremaining: 14.6s\n",
      "20:\tlearn: 0.1903634\ttotal: 3.71s\tremaining: 14s\n",
      "21:\tlearn: 0.1897987\ttotal: 3.77s\tremaining: 13.4s\n",
      "22:\tlearn: 0.1892946\ttotal: 3.84s\tremaining: 12.9s\n",
      "23:\tlearn: 0.1890176\ttotal: 3.89s\tremaining: 12.3s\n",
      "24:\tlearn: 0.1885184\ttotal: 3.95s\tremaining: 11.8s\n",
      "25:\tlearn: 0.1881273\ttotal: 3.99s\tremaining: 11.4s\n",
      "26:\tlearn: 0.1877415\ttotal: 4.04s\tremaining: 10.9s\n",
      "27:\tlearn: 0.1871546\ttotal: 4.09s\tremaining: 10.5s\n",
      "28:\tlearn: 0.1867706\ttotal: 4.13s\tremaining: 10.1s\n",
      "29:\tlearn: 0.1863079\ttotal: 4.18s\tremaining: 9.76s\n",
      "30:\tlearn: 0.1859740\ttotal: 4.23s\tremaining: 9.42s\n",
      "31:\tlearn: 0.1855604\ttotal: 4.28s\tremaining: 9.1s\n",
      "32:\tlearn: 0.1852339\ttotal: 4.33s\tremaining: 8.8s\n",
      "33:\tlearn: 0.1847645\ttotal: 4.38s\tremaining: 8.51s\n",
      "34:\tlearn: 0.1844333\ttotal: 4.44s\tremaining: 8.24s\n",
      "35:\tlearn: 0.1835730\ttotal: 4.49s\tremaining: 7.99s\n",
      "36:\tlearn: 0.1832333\ttotal: 4.55s\tremaining: 7.75s\n",
      "37:\tlearn: 0.1828954\ttotal: 4.62s\tremaining: 7.53s\n",
      "38:\tlearn: 0.1825896\ttotal: 4.68s\tremaining: 7.31s\n",
      "39:\tlearn: 0.1822684\ttotal: 4.73s\tremaining: 7.09s\n",
      "40:\tlearn: 0.1819546\ttotal: 4.78s\tremaining: 6.88s\n",
      "41:\tlearn: 0.1809527\ttotal: 4.83s\tremaining: 6.67s\n",
      "42:\tlearn: 0.1806863\ttotal: 4.88s\tremaining: 6.47s\n",
      "43:\tlearn: 0.1802337\ttotal: 4.93s\tremaining: 6.28s\n",
      "44:\tlearn: 0.1792358\ttotal: 5s\tremaining: 6.11s\n",
      "45:\tlearn: 0.1790111\ttotal: 5.05s\tremaining: 5.93s\n",
      "46:\tlearn: 0.1786371\ttotal: 5.12s\tremaining: 5.77s\n",
      "47:\tlearn: 0.1777933\ttotal: 5.19s\tremaining: 5.62s\n",
      "48:\tlearn: 0.1775064\ttotal: 5.23s\tremaining: 5.44s\n",
      "49:\tlearn: 0.1773323\ttotal: 5.27s\tremaining: 5.27s\n",
      "50:\tlearn: 0.1768150\ttotal: 5.31s\tremaining: 5.11s\n",
      "51:\tlearn: 0.1765614\ttotal: 5.38s\tremaining: 4.96s\n",
      "52:\tlearn: 0.1762122\ttotal: 5.42s\tremaining: 4.81s\n",
      "53:\tlearn: 0.1759738\ttotal: 5.46s\tremaining: 4.66s\n",
      "54:\tlearn: 0.1755719\ttotal: 5.52s\tremaining: 4.51s\n",
      "55:\tlearn: 0.1753822\ttotal: 5.57s\tremaining: 4.38s\n",
      "56:\tlearn: 0.1750111\ttotal: 5.61s\tremaining: 4.23s\n",
      "57:\tlearn: 0.1748387\ttotal: 5.65s\tremaining: 4.09s\n",
      "58:\tlearn: 0.1746159\ttotal: 5.71s\tremaining: 3.97s\n",
      "59:\tlearn: 0.1744509\ttotal: 5.78s\tremaining: 3.85s\n",
      "60:\tlearn: 0.1743268\ttotal: 5.82s\tremaining: 3.72s\n",
      "61:\tlearn: 0.1740931\ttotal: 5.85s\tremaining: 3.59s\n",
      "62:\tlearn: 0.1734430\ttotal: 5.9s\tremaining: 3.46s\n",
      "63:\tlearn: 0.1732950\ttotal: 5.97s\tremaining: 3.36s\n",
      "64:\tlearn: 0.1728109\ttotal: 6.03s\tremaining: 3.25s\n",
      "65:\tlearn: 0.1717060\ttotal: 6.08s\tremaining: 3.13s\n",
      "66:\tlearn: 0.1714082\ttotal: 6.14s\tremaining: 3.02s\n",
      "67:\tlearn: 0.1712738\ttotal: 6.24s\tremaining: 2.94s\n",
      "68:\tlearn: 0.1710828\ttotal: 6.29s\tremaining: 2.83s\n",
      "69:\tlearn: 0.1707660\ttotal: 6.36s\tremaining: 2.72s\n",
      "70:\tlearn: 0.1706238\ttotal: 6.41s\tremaining: 2.62s\n",
      "71:\tlearn: 0.1704743\ttotal: 6.46s\tremaining: 2.51s\n",
      "72:\tlearn: 0.1702397\ttotal: 6.52s\tremaining: 2.41s\n",
      "73:\tlearn: 0.1698688\ttotal: 6.57s\tremaining: 2.31s\n",
      "74:\tlearn: 0.1696609\ttotal: 6.63s\tremaining: 2.21s\n",
      "75:\tlearn: 0.1692556\ttotal: 6.68s\tremaining: 2.11s\n",
      "76:\tlearn: 0.1690806\ttotal: 6.74s\tremaining: 2.01s\n",
      "77:\tlearn: 0.1687830\ttotal: 6.8s\tremaining: 1.92s\n",
      "78:\tlearn: 0.1686095\ttotal: 6.86s\tremaining: 1.82s\n",
      "79:\tlearn: 0.1684131\ttotal: 6.9s\tremaining: 1.73s\n",
      "80:\tlearn: 0.1683062\ttotal: 6.95s\tremaining: 1.63s\n",
      "81:\tlearn: 0.1679878\ttotal: 7s\tremaining: 1.54s\n",
      "82:\tlearn: 0.1678109\ttotal: 7.06s\tremaining: 1.45s\n",
      "83:\tlearn: 0.1676558\ttotal: 7.11s\tremaining: 1.35s\n",
      "84:\tlearn: 0.1674863\ttotal: 7.17s\tremaining: 1.26s\n",
      "85:\tlearn: 0.1671495\ttotal: 7.23s\tremaining: 1.18s\n",
      "86:\tlearn: 0.1664333\ttotal: 7.29s\tremaining: 1.09s\n",
      "87:\tlearn: 0.1662913\ttotal: 7.34s\tremaining: 1s\n",
      "88:\tlearn: 0.1661107\ttotal: 7.4s\tremaining: 914ms\n",
      "89:\tlearn: 0.1660184\ttotal: 7.48s\tremaining: 831ms\n",
      "90:\tlearn: 0.1658406\ttotal: 7.54s\tremaining: 746ms\n",
      "91:\tlearn: 0.1656712\ttotal: 7.6s\tremaining: 661ms\n",
      "92:\tlearn: 0.1655174\ttotal: 7.65s\tremaining: 576ms\n",
      "93:\tlearn: 0.1653781\ttotal: 7.69s\tremaining: 491ms\n",
      "94:\tlearn: 0.1652731\ttotal: 7.75s\tremaining: 408ms\n",
      "95:\tlearn: 0.1649799\ttotal: 7.8s\tremaining: 325ms\n",
      "96:\tlearn: 0.1648126\ttotal: 7.87s\tremaining: 243ms\n",
      "97:\tlearn: 0.1646414\ttotal: 7.92s\tremaining: 162ms\n",
      "98:\tlearn: 0.1643015\ttotal: 7.98s\tremaining: 80.6ms\n",
      "99:\tlearn: 0.1638293\ttotal: 8.04s\tremaining: 0us\n",
      "f1 score: 0.9172091444601771\n"
     ]
    }
   ],
   "source": [
    "# Call the modeling function for CatBoost with countvectorizer and print f1 score\n",
    "modeling(CatBoostClassifier(iterations=100, learning_rate=0.8, \n",
    "                            depth=2, loss_function='Logloss'))\n",
    "\n",
    "# Assign y_pred to a variable for further process\n",
    "y_pred_cv_catboost = y_pred"
   ]
  },
  {
   "cell_type": "markdown",
   "metadata": {},
   "source": [
    "#### Classification Report"
   ]
  },
  {
   "cell_type": "code",
   "execution_count": 67,
   "metadata": {},
   "outputs": [
    {
     "name": "stdout",
     "output_type": "stream",
     "text": [
      "              precision    recall  f1-score   support\n",
      "\n",
      "           0       0.56      0.17      0.26       594\n",
      "           1       0.94      0.99      0.97      8063\n",
      "\n",
      "    accuracy                           0.93      8657\n",
      "   macro avg       0.75      0.58      0.61      8657\n",
      "weighted avg       0.92      0.93      0.92      8657\n",
      "\n"
     ]
    }
   ],
   "source": [
    "# Compute and print the classification report\n",
    "print(classification_report(y_test, y_pred_cv_catboost))"
   ]
  },
  {
   "cell_type": "markdown",
   "metadata": {},
   "source": [
    "#### Confusion Matrix"
   ]
  },
  {
   "cell_type": "code",
   "execution_count": 68,
   "metadata": {},
   "outputs": [
    {
     "data": {
      "image/png": "[encoded data removed]",
      "text/plain": [
       "<Figure size 720x720 with 2 Axes>"
      ]
     },
     "metadata": {
      "needs_background": "light"
     },
     "output_type": "display_data"
    }
   ],
   "source": [
    "# Print confusion matrix for CatBoost with countVectorizer\n",
    "disp_confusion_matrix(y_pred_cv_catboost, \"CatBoosting\")"
   ]
  },
  {
   "cell_type": "markdown",
   "metadata": {},
   "source": [
    "### 4.1.6 Comparison of Models with CountVectorizer"
   ]
  },
  {
   "cell_type": "code",
   "execution_count": 46,
   "metadata": {},
   "outputs": [],
   "source": [
    "# Function for converting the \"classification report\" results to a dataframe\n",
    "def pandas_classification_report(y_true, y_pred):\n",
    "    metrics_summary = precision_recall_fscore_support(\n",
    "            y_true=y_true, \n",
    "            y_pred=y_pred)\n",
    "\n",
    "    avg = list(precision_recall_fscore_support(\n",
    "            y_true=y_true, \n",
    "            y_pred=y_pred,\n",
    "            average='weighted'))\n",
    "\n",
    "    metrics_sum_index = ['precision', 'recall', 'f1-score', 'support']\n",
    "    class_report_df = pd.DataFrame(\n",
    "        list(metrics_summary),\n",
    "        index=metrics_sum_index)\n",
    "\n",
    "    support = class_report_df.loc['support']\n",
    "    total = support.sum() \n",
    "    avg[-1] = total\n",
    "\n",
    "    class_report_df['weighted avg'] = avg\n",
    "\n",
    "    return class_report_df.T\n",
    "\n",
    "# Function for adding explanatory columns and organizing all dataframe\n",
    "def comparison_matrix(y_test, y_pred, label, vector):\n",
    "    df = pandas_classification_report(y_test, y_pred)\n",
    "    df['class']=['bad', 'good', 'average']\n",
    "    df['accuracy']= metrics.accuracy_score(y_test, y_pred)\n",
    "    df['model'] = label\n",
    "    df['vectorizer'] = vector\n",
    "    df = df[['vectorizer', 'model', 'accuracy', 'class', 'precision', 'recall', 'f1-score', 'support']]\n",
    "    return df"
   ]
  },
  {
   "cell_type": "code",
   "execution_count": 47,
   "metadata": {},
   "outputs": [],
   "source": [
    "#For loop for using \"comparison functions\" \n",
    "\n",
    "def comparison_table(y_preds, labels):\n",
    "    \n",
    "    # empty list for collecting dataframes\n",
    "    frames_tv = [] \n",
    "    \n",
    "    # list for y_preds\n",
    "    y_preds_tv = y_preds\n",
    "    \n",
    "    # list for labels\n",
    "    labels_tv = labels  \n",
    "    \n",
    "    vector_tv = 'CountVect'\n",
    "    \n",
    "    for y_pred, label in zip(y_preds_tv, labels_tv):\n",
    "        df = comparison_matrix(y_test, y_pred, label, vector_tv)\n",
    "        frames_tv.append(df)\n",
    "\n",
    "    # concatenating all dataframes\n",
    "    global df_tv\n",
    "    df_tv = pd.concat(frames_tv)\n",
    "    \n",
    "    global df_tv2\n",
    "    df_tv2 = df_tv.set_index(['vectorizer', 'model', 'accuracy', 'class'])"
   ]
  },
  {
   "cell_type": "markdown",
   "metadata": {},
   "source": [
    "### Function for f1 Score Plotting"
   ]
  },
  {
   "cell_type": "code",
   "execution_count": 48,
   "metadata": {},
   "outputs": [],
   "source": [
    "def f1_score_bar_plot(df, category, title):\n",
    "    df = df[df['class']==category]\n",
    "    x = list(df['model'])\n",
    "    y = list(df['f1-score'])\n",
    "    y_round = list(round(df['f1-score'],2))\n",
    "    a = (list(df['f1-score'])).index(max(list(df['f1-score'])))\n",
    "    z = (list(df['f1-score'])).index(min(list(df['f1-score'])))\n",
    "    y_mean = round(df['f1-score'].mean(),2)\n",
    "    \n",
    "    plt.rcParams['figure.figsize']=[15,5]\n",
    "    b_plot = plt.bar(x=x,height=y)\n",
    "    b_plot[a].set_color('g')\n",
    "    b_plot[z].set_color('r')\n",
    "    \n",
    "    for i,v in enumerate(y_round):\n",
    "        plt.text(i-.15,0.018,str(v), color='black', fontsize=15, fontweight='bold')\n",
    "    \n",
    "    plt.axhline(y_mean,ls='--',color='k',label=y_mean)\n",
    "    plt.title(title)\n",
    "    plt.legend()\n",
    "    \n",
    "    return plt.show()"
   ]
  },
  {
   "cell_type": "markdown",
   "metadata": {},
   "source": [
    "### Algorithms Comparison with CountVectorizer"
   ]
  },
  {
   "cell_type": "code",
   "execution_count": 72,
   "metadata": {},
   "outputs": [],
   "source": [
    "comparison_table(y_preds = [y_pred_cv_logreg, y_pred_cv_rf, y_pred_cv_nb, y_pred_cv_xgb, y_pred_cv_catboost], \n",
    "                labels = ['LogReg', 'Random Forest', 'Naive Bayes', 'XGBoost', 'CatBoost'])"
   ]
  },
  {
   "cell_type": "code",
   "execution_count": 73,
   "metadata": {},
   "outputs": [
    {
     "data": {
      "text/html": [
       "<div>\n",
       "<style scoped>\n",
       "    .dataframe tbody tr th:only-of-type {\n",
       "        vertical-align: middle;\n",
       "    }\n",
       "\n",
       "    .dataframe tbody tr th {\n",
       "        vertical-align: top;\n",
       "    }\n",
       "\n",
       "    .dataframe thead th {\n",
       "        text-align: right;\n",
       "    }\n",
       "</style>\n",
       "<table border=\"1\" class=\"dataframe\">\n",
       "  <thead>\n",
       "    <tr style=\"text-align: right;\">\n",
       "      <th></th>\n",
       "      <th></th>\n",
       "      <th></th>\n",
       "      <th></th>\n",
       "      <th>precision</th>\n",
       "      <th>recall</th>\n",
       "      <th>f1-score</th>\n",
       "      <th>support</th>\n",
       "    </tr>\n",
       "    <tr>\n",
       "      <th>vectorizer</th>\n",
       "      <th>model</th>\n",
       "      <th>accuracy</th>\n",
       "      <th>class</th>\n",
       "      <th></th>\n",
       "      <th></th>\n",
       "      <th></th>\n",
       "      <th></th>\n",
       "    </tr>\n",
       "  </thead>\n",
       "  <tbody>\n",
       "    <tr>\n",
       "      <th rowspan=\"15\" valign=\"top\">CountVect</th>\n",
       "      <th rowspan=\"3\" valign=\"top\">LogReg</th>\n",
       "      <th rowspan=\"3\" valign=\"top\">0.878364</th>\n",
       "      <th>bad</th>\n",
       "      <td>0.306002</td>\n",
       "      <td>0.609428</td>\n",
       "      <td>0.407428</td>\n",
       "      <td>594.0</td>\n",
       "    </tr>\n",
       "    <tr>\n",
       "      <th>good</th>\n",
       "      <td>0.968959</td>\n",
       "      <td>0.898177</td>\n",
       "      <td>0.932226</td>\n",
       "      <td>8063.0</td>\n",
       "    </tr>\n",
       "    <tr>\n",
       "      <th>average</th>\n",
       "      <td>0.923470</td>\n",
       "      <td>0.878364</td>\n",
       "      <td>0.896217</td>\n",
       "      <td>8657.0</td>\n",
       "    </tr>\n",
       "    <tr>\n",
       "      <th rowspan=\"3\" valign=\"top\">Random Forest</th>\n",
       "      <th rowspan=\"3\" valign=\"top\">0.931963</th>\n",
       "      <th>bad</th>\n",
       "      <td>0.619048</td>\n",
       "      <td>0.021886</td>\n",
       "      <td>0.042276</td>\n",
       "      <td>594.0</td>\n",
       "    </tr>\n",
       "    <tr>\n",
       "      <th>good</th>\n",
       "      <td>0.932723</td>\n",
       "      <td>0.999008</td>\n",
       "      <td>0.964728</td>\n",
       "      <td>8063.0</td>\n",
       "    </tr>\n",
       "    <tr>\n",
       "      <th>average</th>\n",
       "      <td>0.911201</td>\n",
       "      <td>0.931963</td>\n",
       "      <td>0.901434</td>\n",
       "      <td>8657.0</td>\n",
       "    </tr>\n",
       "    <tr>\n",
       "      <th rowspan=\"3\" valign=\"top\">Naive Bayes</th>\n",
       "      <th rowspan=\"3\" valign=\"top\">0.935197</th>\n",
       "      <th>bad</th>\n",
       "      <td>0.557491</td>\n",
       "      <td>0.269360</td>\n",
       "      <td>0.363224</td>\n",
       "      <td>594.0</td>\n",
       "    </tr>\n",
       "    <tr>\n",
       "      <th>good</th>\n",
       "      <td>0.948148</td>\n",
       "      <td>0.984249</td>\n",
       "      <td>0.965861</td>\n",
       "      <td>8063.0</td>\n",
       "    </tr>\n",
       "    <tr>\n",
       "      <th>average</th>\n",
       "      <td>0.921343</td>\n",
       "      <td>0.935197</td>\n",
       "      <td>0.924511</td>\n",
       "      <td>8657.0</td>\n",
       "    </tr>\n",
       "    <tr>\n",
       "      <th rowspan=\"3\" valign=\"top\">XGBoost</th>\n",
       "      <th rowspan=\"3\" valign=\"top\">0.936930</th>\n",
       "      <th>bad</th>\n",
       "      <td>0.622449</td>\n",
       "      <td>0.205387</td>\n",
       "      <td>0.308861</td>\n",
       "      <td>594.0</td>\n",
       "    </tr>\n",
       "    <tr>\n",
       "      <th>good</th>\n",
       "      <td>0.944215</td>\n",
       "      <td>0.990822</td>\n",
       "      <td>0.966957</td>\n",
       "      <td>8063.0</td>\n",
       "    </tr>\n",
       "    <tr>\n",
       "      <th>average</th>\n",
       "      <td>0.922137</td>\n",
       "      <td>0.936930</td>\n",
       "      <td>0.921802</td>\n",
       "      <td>8657.0</td>\n",
       "    </tr>\n",
       "    <tr>\n",
       "      <th rowspan=\"3\" valign=\"top\">CatBoost</th>\n",
       "      <th rowspan=\"3\" valign=\"top\">0.933926</th>\n",
       "      <th>bad</th>\n",
       "      <td>0.560440</td>\n",
       "      <td>0.171717</td>\n",
       "      <td>0.262887</td>\n",
       "      <td>594.0</td>\n",
       "    </tr>\n",
       "    <tr>\n",
       "      <th>good</th>\n",
       "      <td>0.941947</td>\n",
       "      <td>0.990078</td>\n",
       "      <td>0.965413</td>\n",
       "      <td>8063.0</td>\n",
       "    </tr>\n",
       "    <tr>\n",
       "      <th>average</th>\n",
       "      <td>0.915770</td>\n",
       "      <td>0.933926</td>\n",
       "      <td>0.917209</td>\n",
       "      <td>8657.0</td>\n",
       "    </tr>\n",
       "  </tbody>\n",
       "</table>\n",
       "</div>"
      ],
      "text/plain": [
       "                                           precision    recall  f1-score  \\\n",
       "vectorizer model         accuracy class                                    \n",
       "CountVect  LogReg        0.878364 bad       0.306002  0.609428  0.407428   \n",
       "                                  good      0.968959  0.898177  0.932226   \n",
       "                                  average   0.923470  0.878364  0.896217   \n",
       "           Random Forest 0.931963 bad       0.619048  0.021886  0.042276   \n",
       "                                  good      0.932723  0.999008  0.964728   \n",
       "                                  average   0.911201  0.931963  0.901434   \n",
       "           Naive Bayes   0.935197 bad       0.557491  0.269360  0.363224   \n",
       "                                  good      0.948148  0.984249  0.965861   \n",
       "                                  average   0.921343  0.935197  0.924511   \n",
       "           XGBoost       0.936930 bad       0.622449  0.205387  0.308861   \n",
       "                                  good      0.944215  0.990822  0.966957   \n",
       "                                  average   0.922137  0.936930  0.921802   \n",
       "           CatBoost      0.933926 bad       0.560440  0.171717  0.262887   \n",
       "                                  good      0.941947  0.990078  0.965413   \n",
       "                                  average   0.915770  0.933926  0.917209   \n",
       "\n",
       "                                           support  \n",
       "vectorizer model         accuracy class             \n",
       "CountVect  LogReg        0.878364 bad        594.0  \n",
       "                                  good      8063.0  \n",
       "                                  average   8657.0  \n",
       "           Random Forest 0.931963 bad        594.0  \n",
       "                                  good      8063.0  \n",
       "                                  average   8657.0  \n",
       "           Naive Bayes   0.935197 bad        594.0  \n",
       "                                  good      8063.0  \n",
       "                                  average   8657.0  \n",
       "           XGBoost       0.936930 bad        594.0  \n",
       "                                  good      8063.0  \n",
       "                                  average   8657.0  \n",
       "           CatBoost      0.933926 bad        594.0  \n",
       "                                  good      8063.0  \n",
       "                                  average   8657.0  "
      ]
     },
     "execution_count": 73,
     "metadata": {},
     "output_type": "execute_result"
    }
   ],
   "source": [
    "df_tv2"
   ]
  },
  {
   "cell_type": "markdown",
   "metadata": {},
   "source": [
    "### Average f1 Score - Models with CountVectorizer"
   ]
  },
  {
   "cell_type": "code",
   "execution_count": 74,
   "metadata": {},
   "outputs": [
    {
     "data": {
      "image/png": "[encoded data removed]",
      "text/plain": [
       "<Figure size 1080x360 with 1 Axes>"
      ]
     },
     "metadata": {
      "needs_background": "light"
     },
     "output_type": "display_data"
    }
   ],
   "source": [
    "# Plotting f1 score with \"f1_score_bar_plot\" function\n",
    "f1_score_bar_plot(df=df_tv, category='average', title= \"Average f1 Score\")"
   ]
  },
  {
   "cell_type": "markdown",
   "metadata": {},
   "source": [
    "## 4.2 TF-IDF"
   ]
  },
  {
   "cell_type": "markdown",
   "metadata": {},
   "source": [
    "In order to help our model focus more on meaningful words, we can use a TF-IDF score (Term Frequency, Inverse Document Frequency) on top of our Bag of Words model. TF-IDF weighs words by how rare they are in our dataset, discounting words that are too frequent and just add to the noise."
   ]
  },
  {
   "cell_type": "code",
   "execution_count": 29,
   "metadata": {},
   "outputs": [],
   "source": [
    "# Create the word vector with TF-IDF Vectorizer\n",
    "tfidf_vect = TfidfVectorizer(ngram_range=(1, 1))\n",
    "tfidf_vect_train = tfidf_vect.fit_transform(X_train)\n",
    "tfidf_vect_train = tfidf_vect_train.toarray()\n",
    "tfidf_vect_test = tfidf_vect.transform(X_test)\n",
    "tfidf_vect_test = tfidf_vect_test.toarray()"
   ]
  },
  {
   "cell_type": "markdown",
   "metadata": {},
   "source": [
    "### 4.2.1 Logistic Regression with TF-IDF"
   ]
  },
  {
   "cell_type": "code",
   "execution_count": 30,
   "metadata": {},
   "outputs": [
    {
     "name": "stdout",
     "output_type": "stream",
     "text": [
      "f1 score: 0.8655658843694869\n"
     ]
    }
   ],
   "source": [
    "\n",
    "# Call the modeling function for logistic regression with TF-IDF and print f1 score\n",
    "modeling(LogisticRegression(multi_class = 'multinomial', solver = 'newton-cg', \n",
    "                            class_weight = 'balanced', C = 0.1, n_jobs = -1, random_state = 42), \n",
    "                            tfidf_vect_train, tfidf_vect_test)\n",
    "\n",
    "# Assign y_pred to a variable for further process\n",
    "y_pred_tfidf_logreg = y_pred"
   ]
  },
  {
   "cell_type": "markdown",
   "metadata": {},
   "source": [
    "#### Classification Report"
   ]
  },
  {
   "cell_type": "code",
   "execution_count": 31,
   "metadata": {},
   "outputs": [
    {
     "name": "stdout",
     "output_type": "stream",
     "text": [
      "              precision    recall  f1-score   support\n",
      "\n",
      "           0       0.25      0.76      0.37       580\n",
      "           1       0.98      0.83      0.90      8077\n",
      "\n",
      "    accuracy                           0.83      8657\n",
      "   macro avg       0.61      0.80      0.64      8657\n",
      "weighted avg       0.93      0.83      0.87      8657\n",
      "\n"
     ]
    }
   ],
   "source": [
    "# Compute and print the classification report\n",
    "print(classification_report(y_test, y_pred_tfidf_logreg))"
   ]
  },
  {
   "cell_type": "markdown",
   "metadata": {},
   "source": [
    "#### Confusion Matrix"
   ]
  },
  {
   "cell_type": "code",
   "execution_count": 32,
   "metadata": {},
   "outputs": [
    {
     "data": {
      "image/png": "[encoded data removed]",
      "text/plain": [
       "<Figure size 720x720 with 2 Axes>"
      ]
     },
     "metadata": {
      "needs_background": "light"
     },
     "output_type": "display_data"
    }
   ],
   "source": [
    "# Print confusion matrix for logistic regression with TF-IDF\n",
    "disp_confusion_matrix(y_pred_tfidf_logreg, \"Logistic Regression\", \"TF-IDF\")"
   ]
  },
  {
   "cell_type": "markdown",
   "metadata": {},
   "source": [
    "### 4.2.2 Random Forest with TF-IDF"
   ]
  },
  {
   "cell_type": "code",
   "execution_count": 33,
   "metadata": {},
   "outputs": [
    {
     "name": "stdout",
     "output_type": "stream",
     "text": [
      "f1 score: 0.9043723593388383\n"
     ]
    }
   ],
   "source": [
    "# Call the modeling function for random forest classifier with TF-IDF and print f1 score\n",
    "modeling(RandomForestClassifier(n_estimators = 200, random_state = 42, class_weight = 'balanced'), \n",
    "         tfidf_vect_train, tfidf_vect_test)\n",
    "\n",
    "# Assign y_pred to a variable for further process\n",
    "y_pred_tfidf_rf = y_pred"
   ]
  },
  {
   "cell_type": "markdown",
   "metadata": {},
   "source": [
    "#### Classification Report"
   ]
  },
  {
   "cell_type": "code",
   "execution_count": 34,
   "metadata": {},
   "outputs": [
    {
     "name": "stdout",
     "output_type": "stream",
     "text": [
      "              precision    recall  f1-score   support\n",
      "\n",
      "           0       0.52      0.03      0.06       580\n",
      "           1       0.93      1.00      0.97      8077\n",
      "\n",
      "    accuracy                           0.93      8657\n",
      "   macro avg       0.72      0.51      0.51      8657\n",
      "weighted avg       0.91      0.93      0.90      8657\n",
      "\n"
     ]
    }
   ],
   "source": [
    "# Compute and print the classification report\n",
    "print(classification_report(y_test, y_pred_tfidf_rf))"
   ]
  },
  {
   "cell_type": "markdown",
   "metadata": {},
   "source": [
    "#### Confusion Matrix"
   ]
  },
  {
   "cell_type": "code",
   "execution_count": 35,
   "metadata": {},
   "outputs": [
    {
     "data": {
      "image/png": "[encoded data removed]",
      "text/plain": [
       "<Figure size 720x720 with 2 Axes>"
      ]
     },
     "metadata": {
      "needs_background": "light"
     },
     "output_type": "display_data"
    }
   ],
   "source": [
    "# Print confusion matrix for random forest classifier with TF-IDF\n",
    "disp_confusion_matrix(y_pred_tfidf_rf, \"Random Forest\", \"TF-IDF\")"
   ]
  },
  {
   "cell_type": "markdown",
   "metadata": {},
   "source": [
    "### 4.2.3 Naive Bayes with TF-IDF"
   ]
  },
  {
   "cell_type": "code",
   "execution_count": 36,
   "metadata": {},
   "outputs": [
    {
     "name": "stdout",
     "output_type": "stream",
     "text": [
      "f1 score: 0.9008907308378515\n"
     ]
    }
   ],
   "source": [
    "# Call the modeling function for naive bayes with TF-IDF and print f1 score\n",
    "modeling(MultinomialNB(), tfidf_vect_train, tfidf_vect_test)\n",
    "\n",
    "# Assign y_pred to a variable for further process\n",
    "y_pred_tfidf_nb = y_pred"
   ]
  },
  {
   "cell_type": "markdown",
   "metadata": {},
   "source": [
    "#### Classification Report"
   ]
  },
  {
   "cell_type": "code",
   "execution_count": 37,
   "metadata": {},
   "outputs": [
    {
     "name": "stdout",
     "output_type": "stream",
     "text": [
      "              precision    recall  f1-score   support\n",
      "\n",
      "           0       0.50      0.00      0.00       580\n",
      "           1       0.93      1.00      0.97      8077\n",
      "\n",
      "    accuracy                           0.93      8657\n",
      "   macro avg       0.72      0.50      0.48      8657\n",
      "weighted avg       0.90      0.93      0.90      8657\n",
      "\n"
     ]
    }
   ],
   "source": [
    "# Compute and print the classification report\n",
    "print(classification_report(y_test, y_pred_tfidf_nb))"
   ]
  },
  {
   "cell_type": "markdown",
   "metadata": {},
   "source": [
    "#### Confusion Matrix"
   ]
  },
  {
   "cell_type": "code",
   "execution_count": 38,
   "metadata": {},
   "outputs": [
    {
     "data": {
      "image/png": "[encoded data removed]",
      "text/plain": [
       "<Figure size 720x720 with 2 Axes>"
      ]
     },
     "metadata": {
      "needs_background": "light"
     },
     "output_type": "display_data"
    }
   ],
   "source": [
    "# Print confusion matrix for naive bayes with TF-IDF\n",
    "disp_confusion_matrix(y_pred_tfidf_nb, \"Naive Bayes\", \"TF-IDF\")"
   ]
  },
  {
   "cell_type": "markdown",
   "metadata": {},
   "source": [
    "### 4.2.4 XGBoost with TF-IDF"
   ]
  },
  {
   "cell_type": "code",
   "execution_count": 39,
   "metadata": {},
   "outputs": [
    {
     "name": "stdout",
     "output_type": "stream",
     "text": [
      "[23:24:44] WARNING: C:/Users/Administrator/workspace/xgboost-win64_release_1.3.0/src/learner.cc:1061: Starting in XGBoost 1.3.0, the default evaluation metric used with the objective 'binary:logistic' was changed from 'error' to 'logloss'. Explicitly set eval_metric if you'd like to restore the old behavior.\n",
      "f1 score: 0.9223000509436261\n"
     ]
    }
   ],
   "source": [
    "# Call the modeling function for XGBoost with TF-IDF and print f1 score\n",
    "modeling(XGBClassifier(), tfidf_vect_train, tfidf_vect_test)\n",
    "\n",
    "# Assign y_pred to a variable for further process\n",
    "y_pred_tfidf_xgb = y_pred"
   ]
  },
  {
   "cell_type": "markdown",
   "metadata": {},
   "source": [
    "#### Classification Report"
   ]
  },
  {
   "cell_type": "code",
   "execution_count": 40,
   "metadata": {},
   "outputs": [
    {
     "name": "stdout",
     "output_type": "stream",
     "text": [
      "              precision    recall  f1-score   support\n",
      "\n",
      "           0       0.69      0.18      0.28       580\n",
      "           1       0.94      0.99      0.97      8077\n",
      "\n",
      "    accuracy                           0.94      8657\n",
      "   macro avg       0.82      0.59      0.62      8657\n",
      "weighted avg       0.93      0.94      0.92      8657\n",
      "\n"
     ]
    }
   ],
   "source": [
    "# Compute and print the classification report\n",
    "print(classification_report(y_test, y_pred_tfidf_xgb))"
   ]
  },
  {
   "cell_type": "markdown",
   "metadata": {},
   "source": [
    "#### Confusion Matrix"
   ]
  },
  {
   "cell_type": "code",
   "execution_count": 41,
   "metadata": {},
   "outputs": [
    {
     "data": {
      "image/png": "[encoded data removed]",
      "text/plain": [
       "<Figure size 720x720 with 2 Axes>"
      ]
     },
     "metadata": {
      "needs_background": "light"
     },
     "output_type": "display_data"
    }
   ],
   "source": [
    "# Print confusion matrix for XGBoost with TF-IDF\n",
    "disp_confusion_matrix(y_pred_tfidf_xgb, \"XGBoost\", \"TF-IDF\")"
   ]
  },
  {
   "cell_type": "markdown",
   "metadata": {},
   "source": [
    "### 4.2.5 Catboost with TF-IDF"
   ]
  },
  {
   "cell_type": "code",
   "execution_count": 42,
   "metadata": {},
   "outputs": [
    {
     "name": "stdout",
     "output_type": "stream",
     "text": [
      "0:\tlearn: 0.2558815\ttotal: 313ms\tremaining: 31s\n",
      "1:\tlearn: 0.2340312\ttotal: 438ms\tremaining: 21.5s\n",
      "2:\tlearn: 0.2266705\ttotal: 562ms\tremaining: 18.2s\n",
      "3:\tlearn: 0.2171048\ttotal: 634ms\tremaining: 15.2s\n",
      "4:\tlearn: 0.2116825\ttotal: 697ms\tremaining: 13.2s\n",
      "5:\tlearn: 0.2073987\ttotal: 749ms\tremaining: 11.7s\n",
      "6:\tlearn: 0.2050557\ttotal: 821ms\tremaining: 10.9s\n",
      "7:\tlearn: 0.2037839\ttotal: 879ms\tremaining: 10.1s\n",
      "8:\tlearn: 0.2023071\ttotal: 931ms\tremaining: 9.41s\n",
      "9:\tlearn: 0.2008969\ttotal: 1.01s\tremaining: 9.07s\n",
      "10:\tlearn: 0.1998160\ttotal: 1.07s\tremaining: 8.68s\n",
      "11:\tlearn: 0.1983941\ttotal: 1.14s\tremaining: 8.34s\n",
      "12:\tlearn: 0.1974395\ttotal: 1.21s\tremaining: 8.12s\n",
      "13:\tlearn: 0.1964139\ttotal: 1.28s\tremaining: 7.86s\n",
      "14:\tlearn: 0.1956160\ttotal: 1.34s\tremaining: 7.58s\n",
      "15:\tlearn: 0.1944307\ttotal: 1.41s\tremaining: 7.39s\n",
      "16:\tlearn: 0.1935271\ttotal: 1.47s\tremaining: 7.19s\n",
      "17:\tlearn: 0.1923255\ttotal: 1.54s\tremaining: 7.01s\n",
      "18:\tlearn: 0.1916570\ttotal: 1.62s\tremaining: 6.89s\n",
      "19:\tlearn: 0.1907720\ttotal: 1.69s\tremaining: 6.75s\n",
      "20:\tlearn: 0.1902961\ttotal: 1.75s\tremaining: 6.59s\n",
      "21:\tlearn: 0.1894639\ttotal: 1.82s\tremaining: 6.44s\n",
      "22:\tlearn: 0.1888270\ttotal: 1.87s\tremaining: 6.26s\n",
      "23:\tlearn: 0.1883148\ttotal: 1.95s\tremaining: 6.17s\n",
      "24:\tlearn: 0.1876481\ttotal: 2.02s\tremaining: 6.06s\n",
      "25:\tlearn: 0.1872345\ttotal: 2.09s\tremaining: 5.94s\n",
      "26:\tlearn: 0.1862793\ttotal: 2.14s\tremaining: 5.79s\n",
      "27:\tlearn: 0.1858003\ttotal: 2.22s\tremaining: 5.71s\n",
      "28:\tlearn: 0.1853796\ttotal: 2.29s\tremaining: 5.61s\n",
      "29:\tlearn: 0.1848936\ttotal: 2.36s\tremaining: 5.51s\n",
      "30:\tlearn: 0.1843704\ttotal: 2.43s\tremaining: 5.41s\n",
      "31:\tlearn: 0.1836421\ttotal: 2.5s\tremaining: 5.31s\n",
      "32:\tlearn: 0.1832060\ttotal: 2.57s\tremaining: 5.21s\n",
      "33:\tlearn: 0.1821264\ttotal: 2.64s\tremaining: 5.12s\n",
      "34:\tlearn: 0.1816370\ttotal: 2.7s\tremaining: 5.02s\n",
      "35:\tlearn: 0.1806571\ttotal: 2.77s\tremaining: 4.93s\n",
      "36:\tlearn: 0.1801700\ttotal: 2.84s\tremaining: 4.84s\n",
      "37:\tlearn: 0.1795589\ttotal: 2.9s\tremaining: 4.72s\n",
      "38:\tlearn: 0.1791443\ttotal: 2.97s\tremaining: 4.64s\n",
      "39:\tlearn: 0.1786703\ttotal: 3.05s\tremaining: 4.57s\n",
      "40:\tlearn: 0.1782961\ttotal: 3.1s\tremaining: 4.46s\n",
      "41:\tlearn: 0.1779079\ttotal: 3.16s\tremaining: 4.36s\n",
      "42:\tlearn: 0.1775271\ttotal: 3.23s\tremaining: 4.29s\n",
      "43:\tlearn: 0.1770300\ttotal: 3.3s\tremaining: 4.2s\n",
      "44:\tlearn: 0.1763477\ttotal: 3.37s\tremaining: 4.11s\n",
      "45:\tlearn: 0.1760301\ttotal: 3.43s\tremaining: 4.03s\n",
      "46:\tlearn: 0.1746351\ttotal: 3.48s\tremaining: 3.93s\n",
      "47:\tlearn: 0.1742295\ttotal: 3.55s\tremaining: 3.84s\n",
      "48:\tlearn: 0.1738528\ttotal: 3.62s\tremaining: 3.77s\n",
      "49:\tlearn: 0.1728103\ttotal: 3.68s\tremaining: 3.68s\n",
      "50:\tlearn: 0.1724983\ttotal: 3.73s\tremaining: 3.58s\n",
      "51:\tlearn: 0.1720130\ttotal: 3.79s\tremaining: 3.5s\n",
      "52:\tlearn: 0.1716559\ttotal: 3.87s\tremaining: 3.43s\n",
      "53:\tlearn: 0.1713139\ttotal: 3.94s\tremaining: 3.36s\n",
      "54:\tlearn: 0.1709867\ttotal: 4.01s\tremaining: 3.29s\n",
      "55:\tlearn: 0.1706621\ttotal: 4.08s\tremaining: 3.21s\n",
      "56:\tlearn: 0.1703090\ttotal: 4.15s\tremaining: 3.13s\n",
      "57:\tlearn: 0.1696948\ttotal: 4.21s\tremaining: 3.05s\n",
      "58:\tlearn: 0.1693556\ttotal: 4.28s\tremaining: 2.98s\n",
      "59:\tlearn: 0.1690814\ttotal: 4.35s\tremaining: 2.9s\n",
      "60:\tlearn: 0.1687167\ttotal: 4.42s\tremaining: 2.83s\n",
      "61:\tlearn: 0.1684321\ttotal: 4.48s\tremaining: 2.74s\n",
      "62:\tlearn: 0.1676268\ttotal: 4.54s\tremaining: 2.67s\n",
      "63:\tlearn: 0.1672761\ttotal: 4.62s\tremaining: 2.6s\n",
      "64:\tlearn: 0.1669820\ttotal: 4.68s\tremaining: 2.52s\n",
      "65:\tlearn: 0.1666458\ttotal: 4.76s\tremaining: 2.45s\n",
      "66:\tlearn: 0.1662660\ttotal: 4.84s\tremaining: 2.38s\n",
      "67:\tlearn: 0.1659396\ttotal: 4.92s\tremaining: 2.32s\n",
      "68:\tlearn: 0.1656459\ttotal: 5s\tremaining: 2.25s\n",
      "69:\tlearn: 0.1653150\ttotal: 5.08s\tremaining: 2.18s\n",
      "70:\tlearn: 0.1650317\ttotal: 5.16s\tremaining: 2.1s\n",
      "71:\tlearn: 0.1647446\ttotal: 5.21s\tremaining: 2.03s\n",
      "72:\tlearn: 0.1644798\ttotal: 5.27s\tremaining: 1.95s\n",
      "73:\tlearn: 0.1637630\ttotal: 5.34s\tremaining: 1.88s\n",
      "74:\tlearn: 0.1634027\ttotal: 5.4s\tremaining: 1.8s\n",
      "75:\tlearn: 0.1627766\ttotal: 5.45s\tremaining: 1.72s\n",
      "76:\tlearn: 0.1625694\ttotal: 5.52s\tremaining: 1.65s\n",
      "77:\tlearn: 0.1623393\ttotal: 5.58s\tremaining: 1.57s\n",
      "78:\tlearn: 0.1621010\ttotal: 5.66s\tremaining: 1.5s\n",
      "79:\tlearn: 0.1619131\ttotal: 5.71s\tremaining: 1.43s\n",
      "80:\tlearn: 0.1617169\ttotal: 5.77s\tremaining: 1.35s\n",
      "81:\tlearn: 0.1614909\ttotal: 5.84s\tremaining: 1.28s\n",
      "82:\tlearn: 0.1612485\ttotal: 5.91s\tremaining: 1.21s\n",
      "83:\tlearn: 0.1607924\ttotal: 5.99s\tremaining: 1.14s\n",
      "84:\tlearn: 0.1605766\ttotal: 6.05s\tremaining: 1.07s\n",
      "85:\tlearn: 0.1603487\ttotal: 6.14s\tremaining: 999ms\n",
      "86:\tlearn: 0.1601146\ttotal: 6.2s\tremaining: 926ms\n",
      "87:\tlearn: 0.1598744\ttotal: 6.25s\tremaining: 853ms\n",
      "88:\tlearn: 0.1597081\ttotal: 6.32s\tremaining: 781ms\n",
      "89:\tlearn: 0.1594081\ttotal: 6.39s\tremaining: 710ms\n",
      "90:\tlearn: 0.1590964\ttotal: 6.46s\tremaining: 639ms\n",
      "91:\tlearn: 0.1586919\ttotal: 6.52s\tremaining: 567ms\n",
      "92:\tlearn: 0.1585654\ttotal: 6.58s\tremaining: 496ms\n",
      "93:\tlearn: 0.1583225\ttotal: 6.66s\tremaining: 425ms\n",
      "94:\tlearn: 0.1580713\ttotal: 6.73s\tremaining: 354ms\n",
      "95:\tlearn: 0.1578689\ttotal: 6.8s\tremaining: 283ms\n",
      "96:\tlearn: 0.1576865\ttotal: 6.87s\tremaining: 213ms\n",
      "97:\tlearn: 0.1575399\ttotal: 6.96s\tremaining: 142ms\n",
      "98:\tlearn: 0.1573426\ttotal: 7.03s\tremaining: 71ms\n",
      "99:\tlearn: 0.1571310\ttotal: 7.08s\tremaining: 0us\n",
      "f1 score: 0.9202057193034603\n"
     ]
    }
   ],
   "source": [
    "# Call the modeling function for Catboost with TF-IDF and print f1 score\n",
    "modeling(CatBoostClassifier(iterations=100, learning_rate=0.8, depth=2, \n",
    "                            loss_function='Logloss'), tfidf_vect_train, tfidf_vect_test)\n",
    "\n",
    "# Assign y_pred to a variable for further process\n",
    "y_pred_tfidf_catboost = y_pred"
   ]
  },
  {
   "cell_type": "markdown",
   "metadata": {},
   "source": [
    "#### Classification Report"
   ]
  },
  {
   "cell_type": "code",
   "execution_count": 43,
   "metadata": {},
   "outputs": [
    {
     "name": "stdout",
     "output_type": "stream",
     "text": [
      "              precision    recall  f1-score   support\n",
      "\n",
      "           0       0.54      0.19      0.28       580\n",
      "           1       0.94      0.99      0.97      8077\n",
      "\n",
      "    accuracy                           0.93      8657\n",
      "   macro avg       0.74      0.59      0.63      8657\n",
      "weighted avg       0.92      0.93      0.92      8657\n",
      "\n"
     ]
    }
   ],
   "source": [
    "# Compute and print the classification report\n",
    "print(classification_report(y_test, y_pred_tfidf_catboost))"
   ]
  },
  {
   "cell_type": "markdown",
   "metadata": {},
   "source": [
    "#### Confusion Matrix"
   ]
  },
  {
   "cell_type": "code",
   "execution_count": 44,
   "metadata": {},
   "outputs": [
    {
     "data": {
      "image/png": "[encoded data removed]",
      "text/plain": [
       "<Figure size 720x720 with 2 Axes>"
      ]
     },
     "metadata": {
      "needs_background": "light"
     },
     "output_type": "display_data"
    }
   ],
   "source": [
    "# Print confusion matrix for CatBoost with TF-IDF\n",
    "disp_confusion_matrix(y_pred_tfidf_catboost, \"CatBoost\", \"TF-IDF\")"
   ]
  },
  {
   "cell_type": "markdown",
   "metadata": {},
   "source": [
    "### 4.2.6 Comparision of Models with TF-IDF Vectorizer"
   ]
  },
  {
   "cell_type": "code",
   "execution_count": 49,
   "metadata": {},
   "outputs": [],
   "source": [
    "comparison_table(y_preds = [y_pred_tfidf_logreg, y_pred_tfidf_rf, y_pred_tfidf_nb, y_pred_tfidf_xgb, y_pred_tfidf_catboost], \n",
    "                labels = ['LogReg', 'Random Forest', 'Naive Bayes', 'XGBoost', 'CatBoost'])"
   ]
  },
  {
   "cell_type": "markdown",
   "metadata": {},
   "source": [
    "#### Comparison Table - TF-IDF Vectorizing"
   ]
  },
  {
   "cell_type": "code",
   "execution_count": 50,
   "metadata": {},
   "outputs": [
    {
     "name": "stdout",
     "output_type": "stream",
     "text": [
      "\n",
      "Comparision Matrix of Models with TF-IDF Vectorizer\n",
      "\n"
     ]
    },
    {
     "data": {
      "text/html": [
       "<div>\n",
       "<style scoped>\n",
       "    .dataframe tbody tr th:only-of-type {\n",
       "        vertical-align: middle;\n",
       "    }\n",
       "\n",
       "    .dataframe tbody tr th {\n",
       "        vertical-align: top;\n",
       "    }\n",
       "\n",
       "    .dataframe thead th {\n",
       "        text-align: right;\n",
       "    }\n",
       "</style>\n",
       "<table border=\"1\" class=\"dataframe\">\n",
       "  <thead>\n",
       "    <tr style=\"text-align: right;\">\n",
       "      <th></th>\n",
       "      <th></th>\n",
       "      <th></th>\n",
       "      <th></th>\n",
       "      <th>precision</th>\n",
       "      <th>recall</th>\n",
       "      <th>f1-score</th>\n",
       "      <th>support</th>\n",
       "    </tr>\n",
       "    <tr>\n",
       "      <th>vectorizer</th>\n",
       "      <th>model</th>\n",
       "      <th>accuracy</th>\n",
       "      <th>class</th>\n",
       "      <th></th>\n",
       "      <th></th>\n",
       "      <th></th>\n",
       "      <th></th>\n",
       "    </tr>\n",
       "  </thead>\n",
       "  <tbody>\n",
       "    <tr>\n",
       "      <th rowspan=\"15\" valign=\"top\">CountVect</th>\n",
       "      <th rowspan=\"3\" valign=\"top\">LogReg</th>\n",
       "      <th rowspan=\"3\" valign=\"top\">0.828925</th>\n",
       "      <th>bad</th>\n",
       "      <td>0.247052</td>\n",
       "      <td>0.758621</td>\n",
       "      <td>0.372723</td>\n",
       "      <td>580.0</td>\n",
       "    </tr>\n",
       "    <tr>\n",
       "      <th>good</th>\n",
       "      <td>0.979639</td>\n",
       "      <td>0.833973</td>\n",
       "      <td>0.900956</td>\n",
       "      <td>8077.0</td>\n",
       "    </tr>\n",
       "    <tr>\n",
       "      <th>average</th>\n",
       "      <td>0.930558</td>\n",
       "      <td>0.828925</td>\n",
       "      <td>0.865566</td>\n",
       "      <td>8657.0</td>\n",
       "    </tr>\n",
       "    <tr>\n",
       "      <th rowspan=\"3\" valign=\"top\">Random Forest</th>\n",
       "      <th rowspan=\"3\" valign=\"top\">0.933118</th>\n",
       "      <th>bad</th>\n",
       "      <td>0.515152</td>\n",
       "      <td>0.029310</td>\n",
       "      <td>0.055465</td>\n",
       "      <td>580.0</td>\n",
       "    </tr>\n",
       "    <tr>\n",
       "      <th>good</th>\n",
       "      <td>0.934717</td>\n",
       "      <td>0.998019</td>\n",
       "      <td>0.965331</td>\n",
       "      <td>8077.0</td>\n",
       "    </tr>\n",
       "    <tr>\n",
       "      <th>average</th>\n",
       "      <td>0.906607</td>\n",
       "      <td>0.933118</td>\n",
       "      <td>0.904372</td>\n",
       "      <td>8657.0</td>\n",
       "    </tr>\n",
       "    <tr>\n",
       "      <th rowspan=\"3\" valign=\"top\">Naive Bayes</th>\n",
       "      <th rowspan=\"3\" valign=\"top\">0.933002</th>\n",
       "      <th>bad</th>\n",
       "      <td>0.500000</td>\n",
       "      <td>0.001724</td>\n",
       "      <td>0.003436</td>\n",
       "      <td>580.0</td>\n",
       "    </tr>\n",
       "    <tr>\n",
       "      <th>good</th>\n",
       "      <td>0.933102</td>\n",
       "      <td>0.999876</td>\n",
       "      <td>0.965336</td>\n",
       "      <td>8077.0</td>\n",
       "    </tr>\n",
       "    <tr>\n",
       "      <th>average</th>\n",
       "      <td>0.904085</td>\n",
       "      <td>0.933002</td>\n",
       "      <td>0.900891</td>\n",
       "      <td>8657.0</td>\n",
       "    </tr>\n",
       "    <tr>\n",
       "      <th rowspan=\"3\" valign=\"top\">XGBoost</th>\n",
       "      <th rowspan=\"3\" valign=\"top\">0.939471</th>\n",
       "      <th>bad</th>\n",
       "      <td>0.689189</td>\n",
       "      <td>0.175862</td>\n",
       "      <td>0.280220</td>\n",
       "      <td>580.0</td>\n",
       "    </tr>\n",
       "    <tr>\n",
       "      <th>good</th>\n",
       "      <td>0.943824</td>\n",
       "      <td>0.994305</td>\n",
       "      <td>0.968407</td>\n",
       "      <td>8077.0</td>\n",
       "    </tr>\n",
       "    <tr>\n",
       "      <th>average</th>\n",
       "      <td>0.926764</td>\n",
       "      <td>0.939471</td>\n",
       "      <td>0.922300</td>\n",
       "      <td>8657.0</td>\n",
       "    </tr>\n",
       "    <tr>\n",
       "      <th rowspan=\"3\" valign=\"top\">CatBoost</th>\n",
       "      <th rowspan=\"3\" valign=\"top\">0.934850</th>\n",
       "      <th>bad</th>\n",
       "      <td>0.538462</td>\n",
       "      <td>0.193103</td>\n",
       "      <td>0.284264</td>\n",
       "      <td>580.0</td>\n",
       "    </tr>\n",
       "    <tr>\n",
       "      <th>good</th>\n",
       "      <td>0.944609</td>\n",
       "      <td>0.988114</td>\n",
       "      <td>0.965872</td>\n",
       "      <td>8077.0</td>\n",
       "    </tr>\n",
       "    <tr>\n",
       "      <th>average</th>\n",
       "      <td>0.917398</td>\n",
       "      <td>0.934850</td>\n",
       "      <td>0.920206</td>\n",
       "      <td>8657.0</td>\n",
       "    </tr>\n",
       "  </tbody>\n",
       "</table>\n",
       "</div>"
      ],
      "text/plain": [
       "                                           precision    recall  f1-score  \\\n",
       "vectorizer model         accuracy class                                    \n",
       "CountVect  LogReg        0.828925 bad       0.247052  0.758621  0.372723   \n",
       "                                  good      0.979639  0.833973  0.900956   \n",
       "                                  average   0.930558  0.828925  0.865566   \n",
       "           Random Forest 0.933118 bad       0.515152  0.029310  0.055465   \n",
       "                                  good      0.934717  0.998019  0.965331   \n",
       "                                  average   0.906607  0.933118  0.904372   \n",
       "           Naive Bayes   0.933002 bad       0.500000  0.001724  0.003436   \n",
       "                                  good      0.933102  0.999876  0.965336   \n",
       "                                  average   0.904085  0.933002  0.900891   \n",
       "           XGBoost       0.939471 bad       0.689189  0.175862  0.280220   \n",
       "                                  good      0.943824  0.994305  0.968407   \n",
       "                                  average   0.926764  0.939471  0.922300   \n",
       "           CatBoost      0.934850 bad       0.538462  0.193103  0.284264   \n",
       "                                  good      0.944609  0.988114  0.965872   \n",
       "                                  average   0.917398  0.934850  0.920206   \n",
       "\n",
       "                                           support  \n",
       "vectorizer model         accuracy class             \n",
       "CountVect  LogReg        0.828925 bad        580.0  \n",
       "                                  good      8077.0  \n",
       "                                  average   8657.0  \n",
       "           Random Forest 0.933118 bad        580.0  \n",
       "                                  good      8077.0  \n",
       "                                  average   8657.0  \n",
       "           Naive Bayes   0.933002 bad        580.0  \n",
       "                                  good      8077.0  \n",
       "                                  average   8657.0  \n",
       "           XGBoost       0.939471 bad        580.0  \n",
       "                                  good      8077.0  \n",
       "                                  average   8657.0  \n",
       "           CatBoost      0.934850 bad        580.0  \n",
       "                                  good      8077.0  \n",
       "                                  average   8657.0  "
      ]
     },
     "execution_count": 50,
     "metadata": {},
     "output_type": "execute_result"
    }
   ],
   "source": [
    "# Print the comparision matrix\n",
    "print('\\nComparision Matrix of Models with TF-IDF Vectorizer\\n')\n",
    "df_tv2"
   ]
  },
  {
   "cell_type": "markdown",
   "metadata": {},
   "source": [
    "#### Average f1 score - Models with TF-IDF Vectorizer"
   ]
  },
  {
   "cell_type": "code",
   "execution_count": 51,
   "metadata": {},
   "outputs": [
    {
     "data": {
      "image/png": "[encoded data removed]",
      "text/plain": [
       "<Figure size 1080x360 with 1 Axes>"
      ]
     },
     "metadata": {
      "needs_background": "light"
     },
     "output_type": "display_data"
    }
   ],
   "source": [
    "# Plotting f1 score with \"f1_score_bar_plot\" function\n",
    "f1_score_bar_plot(df=df_tv, category='average', title= \"Average F1 Score\")"
   ]
  },
  {
   "cell_type": "markdown",
   "metadata": {},
   "source": [
    "## 4.3 Hashing Vectorizer"
   ]
  },
  {
   "cell_type": "markdown",
   "metadata": {},
   "source": [
    "Hash Vectorizer is designed to be as memory efficient as possible. Instead of storing the tokens as strings, the vectorizer applies the hashing trick to encode them as numerical indexes. The downside of this method is that once vectorized, the features’ names can no longer be retrieved."
   ]
  },
  {
   "cell_type": "code",
   "execution_count": 53,
   "metadata": {},
   "outputs": [],
   "source": [
    "# Create the word vector with Hash Vectorizer\n",
    "hash_vect = HashingVectorizer(n_features=2000, ngram_range=(1,1))\n",
    "hash_vect_train = hash_vect.fit_transform(X_train)\n",
    "hash_vect_train = hash_vect_train.toarray()\n",
    "hash_vect_test = hash_vect.transform(X_test)\n",
    "hash_vect_test = hash_vect_test.toarray()"
   ]
  },
  {
   "cell_type": "markdown",
   "metadata": {},
   "source": [
    "## 4.3.1 Logistic Regression with Hash Vectorizer"
   ]
  },
  {
   "cell_type": "code",
   "execution_count": 54,
   "metadata": {},
   "outputs": [
    {
     "name": "stdout",
     "output_type": "stream",
     "text": [
      "f1 score: 0.8407385761746154\n"
     ]
    }
   ],
   "source": [
    "# Call the modeling function for logistic regression with Hash Vectorizer and print f1 score\n",
    "modeling(LogisticRegression(multi_class = 'multinomial', solver = 'newton-cg', \n",
    "                            class_weight = 'balanced', C = 0.1, n_jobs = -1, random_state = 42), \n",
    "                            hash_vect_train, hash_vect_test)\n",
    "\n",
    "# Assign y_pred to a variable for further process\n",
    "y_pred_hash_logreg = y_pred"
   ]
  },
  {
   "cell_type": "markdown",
   "metadata": {},
   "source": [
    "#### Classification Report"
   ]
  },
  {
   "cell_type": "code",
   "execution_count": 55,
   "metadata": {},
   "outputs": [
    {
     "name": "stdout",
     "output_type": "stream",
     "text": [
      "              precision    recall  f1-score   support\n",
      "\n",
      "           0       0.21      0.74      0.32       580\n",
      "           1       0.98      0.80      0.88      8077\n",
      "\n",
      "    accuracy                           0.79      8657\n",
      "   macro avg       0.59      0.77      0.60      8657\n",
      "weighted avg       0.93      0.79      0.84      8657\n",
      "\n"
     ]
    }
   ],
   "source": [
    "# Compute and print the classification report\n",
    "print(classification_report(y_test, y_pred_hash_logreg))"
   ]
  },
  {
   "cell_type": "markdown",
   "metadata": {},
   "source": [
    "#### Confusion Matrix"
   ]
  },
  {
   "cell_type": "code",
   "execution_count": 56,
   "metadata": {},
   "outputs": [
    {
     "data": {
      "image/png": "[encoded data removed]",
      "text/plain": [
       "<Figure size 720x720 with 2 Axes>"
      ]
     },
     "metadata": {
      "needs_background": "light"
     },
     "output_type": "display_data"
    }
   ],
   "source": [
    "# Print confusion matrix for logistic regression with Hash Vectorizer\n",
    "disp_confusion_matrix(y_pred_tfidf_logreg, \"Logistic Regression\", \"Hash Vectorizer\")"
   ]
  },
  {
   "cell_type": "markdown",
   "metadata": {},
   "source": [
    "## 4.3.2 Random Forest with Hash Vectorizer"
   ]
  },
  {
   "cell_type": "code",
   "execution_count": 57,
   "metadata": {},
   "outputs": [
    {
     "name": "stdout",
     "output_type": "stream",
     "text": [
      "f1 score: 0.9094049034829691\n"
     ]
    }
   ],
   "source": [
    "# Call the modeling function for random forest classifier with Hash Vectorizer and print f1 score\n",
    "modeling(RandomForestClassifier(n_estimators = 200, random_state = 42), \n",
    "         hash_vect_train, hash_vect_test)\n",
    "\n",
    "# Assign y_pred to a variable for further process\n",
    "y_pred_hash_rf = y_pred"
   ]
  },
  {
   "cell_type": "markdown",
   "metadata": {},
   "source": [
    "#### Classification Report"
   ]
  },
  {
   "cell_type": "code",
   "execution_count": 58,
   "metadata": {},
   "outputs": [
    {
     "name": "stdout",
     "output_type": "stream",
     "text": [
      "              precision    recall  f1-score   support\n",
      "\n",
      "           0       0.58      0.07      0.12       580\n",
      "           1       0.94      1.00      0.97      8077\n",
      "\n",
      "    accuracy                           0.93      8657\n",
      "   macro avg       0.76      0.53      0.54      8657\n",
      "weighted avg       0.91      0.93      0.91      8657\n",
      "\n"
     ]
    }
   ],
   "source": [
    "# Compute and print the classification report\n",
    "print(classification_report(y_test, y_pred_hash_rf))"
   ]
  },
  {
   "cell_type": "markdown",
   "metadata": {},
   "source": [
    "#### Confusion Matrix"
   ]
  },
  {
   "cell_type": "code",
   "execution_count": 59,
   "metadata": {},
   "outputs": [
    {
     "data": {
      "image/png": "[encoded data removed]",
      "text/plain": [
       "<Figure size 720x720 with 2 Axes>"
      ]
     },
     "metadata": {
      "needs_background": "light"
     },
     "output_type": "display_data"
    }
   ],
   "source": [
    "# Print confusion matrix for random forest classifier with Hash Vectorizer\n",
    "disp_confusion_matrix(y_pred_hash_rf, \"Random Forest\", \"Hash Vectorizer\")"
   ]
  },
  {
   "cell_type": "markdown",
   "metadata": {},
   "source": [
    "## 4.3.3 XGBoost with Hash Vectorize"
   ]
  },
  {
   "cell_type": "code",
   "execution_count": 67,
   "metadata": {},
   "outputs": [
    {
     "name": "stdout",
     "output_type": "stream",
     "text": [
      "[00:01:55] WARNING: C:/Users/Administrator/workspace/xgboost-win64_release_1.3.0/src/learner.cc:1061: Starting in XGBoost 1.3.0, the default evaluation metric used with the objective 'binary:logistic' was changed from 'error' to 'logloss'. Explicitly set eval_metric if you'd like to restore the old behavior.\n",
      "f1 score: 0.9197701527301603\n"
     ]
    }
   ],
   "source": [
    "# Call the modeling function for XGBoost with Hash Vectorizer and print f1 score\n",
    "modeling(XGBClassifier(), hash_vect_train, hash_vect_test)\n",
    "\n",
    "# Assign y_pred to a variable for further process\n",
    "y_pred_hash_xgb = y_pred"
   ]
  },
  {
   "cell_type": "markdown",
   "metadata": {},
   "source": [
    "#### Classification Report"
   ]
  },
  {
   "cell_type": "code",
   "execution_count": 68,
   "metadata": {},
   "outputs": [
    {
     "name": "stdout",
     "output_type": "stream",
     "text": [
      "              precision    recall  f1-score   support\n",
      "\n",
      "           0       0.65      0.16      0.25       580\n",
      "           1       0.94      0.99      0.97      8077\n",
      "\n",
      "    accuracy                           0.94      8657\n",
      "   macro avg       0.80      0.58      0.61      8657\n",
      "weighted avg       0.92      0.94      0.92      8657\n",
      "\n"
     ]
    }
   ],
   "source": [
    "# Compute and print the classification report\n",
    "print(classification_report(y_test, y_pred_hash_xgb))"
   ]
  },
  {
   "cell_type": "markdown",
   "metadata": {},
   "source": [
    "#### Confusion Matrix"
   ]
  },
  {
   "cell_type": "code",
   "execution_count": 69,
   "metadata": {},
   "outputs": [
    {
     "data": {
      "image/png": "[encoded data removed]",
      "text/plain": [
       "<Figure size 720x720 with 2 Axes>"
      ]
     },
     "metadata": {
      "needs_background": "light"
     },
     "output_type": "display_data"
    }
   ],
   "source": [
    "# Print confusion matrix for XGBoost with Hash Vectorizer\n",
    "disp_confusion_matrix(y_pred_hash_xgb, \"XGBoost\", \"Hash Vectorizer\")"
   ]
  },
  {
   "cell_type": "markdown",
   "metadata": {},
   "source": [
    "## 4.3.4 CatBoost with Hash Vectorizer"
   ]
  },
  {
   "cell_type": "code",
   "execution_count": 70,
   "metadata": {},
   "outputs": [
    {
     "name": "stdout",
     "output_type": "stream",
     "text": [
      "0:\tlearn: 0.2558503\ttotal: 55.7ms\tremaining: 5.51s\n",
      "1:\tlearn: 0.2345938\ttotal: 110ms\tremaining: 5.41s\n",
      "2:\tlearn: 0.2271269\ttotal: 180ms\tremaining: 5.83s\n",
      "3:\tlearn: 0.2169339\ttotal: 234ms\tremaining: 5.6s\n",
      "4:\tlearn: 0.2115391\ttotal: 291ms\tremaining: 5.53s\n",
      "5:\tlearn: 0.2069367\ttotal: 369ms\tremaining: 5.78s\n",
      "6:\tlearn: 0.2048703\ttotal: 435ms\tremaining: 5.77s\n",
      "7:\tlearn: 0.2035569\ttotal: 497ms\tremaining: 5.72s\n",
      "8:\tlearn: 0.2019282\ttotal: 554ms\tremaining: 5.6s\n",
      "9:\tlearn: 0.2002475\ttotal: 606ms\tremaining: 5.46s\n",
      "10:\tlearn: 0.1993393\ttotal: 663ms\tremaining: 5.36s\n",
      "11:\tlearn: 0.1980271\ttotal: 714ms\tremaining: 5.23s\n",
      "12:\tlearn: 0.1971415\ttotal: 769ms\tremaining: 5.15s\n",
      "13:\tlearn: 0.1961608\ttotal: 826ms\tremaining: 5.08s\n",
      "14:\tlearn: 0.1950996\ttotal: 874ms\tremaining: 4.95s\n",
      "15:\tlearn: 0.1940505\ttotal: 930ms\tremaining: 4.88s\n",
      "16:\tlearn: 0.1932309\ttotal: 986ms\tremaining: 4.81s\n",
      "17:\tlearn: 0.1924264\ttotal: 1.04s\tremaining: 4.72s\n",
      "18:\tlearn: 0.1907632\ttotal: 1.1s\tremaining: 4.71s\n",
      "19:\tlearn: 0.1900883\ttotal: 1.16s\tremaining: 4.62s\n",
      "20:\tlearn: 0.1895842\ttotal: 1.21s\tremaining: 4.54s\n",
      "21:\tlearn: 0.1886604\ttotal: 1.26s\tremaining: 4.48s\n",
      "22:\tlearn: 0.1878790\ttotal: 1.31s\tremaining: 4.39s\n",
      "23:\tlearn: 0.1874433\ttotal: 1.37s\tremaining: 4.35s\n",
      "24:\tlearn: 0.1870420\ttotal: 1.42s\tremaining: 4.27s\n",
      "25:\tlearn: 0.1862272\ttotal: 1.47s\tremaining: 4.2s\n",
      "26:\tlearn: 0.1856602\ttotal: 1.54s\tremaining: 4.17s\n",
      "27:\tlearn: 0.1851675\ttotal: 1.6s\tremaining: 4.11s\n",
      "28:\tlearn: 0.1846657\ttotal: 1.64s\tremaining: 4.03s\n",
      "29:\tlearn: 0.1842824\ttotal: 1.7s\tremaining: 3.96s\n",
      "30:\tlearn: 0.1839974\ttotal: 1.75s\tremaining: 3.9s\n",
      "31:\tlearn: 0.1833266\ttotal: 1.81s\tremaining: 3.84s\n",
      "32:\tlearn: 0.1823928\ttotal: 1.86s\tremaining: 3.78s\n",
      "33:\tlearn: 0.1819386\ttotal: 1.91s\tremaining: 3.71s\n",
      "34:\tlearn: 0.1814617\ttotal: 1.97s\tremaining: 3.65s\n",
      "35:\tlearn: 0.1810505\ttotal: 2.03s\tremaining: 3.6s\n",
      "36:\tlearn: 0.1805052\ttotal: 2.09s\tremaining: 3.56s\n",
      "37:\tlearn: 0.1796576\ttotal: 2.15s\tremaining: 3.51s\n",
      "38:\tlearn: 0.1791614\ttotal: 2.21s\tremaining: 3.45s\n",
      "39:\tlearn: 0.1782987\ttotal: 2.26s\tremaining: 3.39s\n",
      "40:\tlearn: 0.1779231\ttotal: 2.32s\tremaining: 3.34s\n",
      "41:\tlearn: 0.1776563\ttotal: 2.38s\tremaining: 3.28s\n",
      "42:\tlearn: 0.1773426\ttotal: 2.43s\tremaining: 3.22s\n",
      "43:\tlearn: 0.1767320\ttotal: 2.48s\tremaining: 3.16s\n",
      "44:\tlearn: 0.1760411\ttotal: 2.53s\tremaining: 3.09s\n",
      "45:\tlearn: 0.1757576\ttotal: 2.58s\tremaining: 3.04s\n",
      "46:\tlearn: 0.1754147\ttotal: 2.64s\tremaining: 2.98s\n",
      "47:\tlearn: 0.1751035\ttotal: 2.69s\tremaining: 2.92s\n",
      "48:\tlearn: 0.1748047\ttotal: 2.76s\tremaining: 2.87s\n",
      "49:\tlearn: 0.1742291\ttotal: 2.81s\tremaining: 2.81s\n",
      "50:\tlearn: 0.1739311\ttotal: 2.87s\tremaining: 2.75s\n",
      "51:\tlearn: 0.1736785\ttotal: 2.92s\tremaining: 2.7s\n",
      "52:\tlearn: 0.1731593\ttotal: 2.97s\tremaining: 2.63s\n",
      "53:\tlearn: 0.1728582\ttotal: 3.03s\tremaining: 2.58s\n",
      "54:\tlearn: 0.1726063\ttotal: 3.08s\tremaining: 2.52s\n",
      "55:\tlearn: 0.1720130\ttotal: 3.14s\tremaining: 2.46s\n",
      "56:\tlearn: 0.1717327\ttotal: 3.19s\tremaining: 2.4s\n",
      "57:\tlearn: 0.1714547\ttotal: 3.25s\tremaining: 2.35s\n",
      "58:\tlearn: 0.1712357\ttotal: 3.31s\tremaining: 2.3s\n",
      "59:\tlearn: 0.1710017\ttotal: 3.38s\tremaining: 2.25s\n",
      "60:\tlearn: 0.1707822\ttotal: 3.44s\tremaining: 2.2s\n",
      "61:\tlearn: 0.1705892\ttotal: 3.49s\tremaining: 2.14s\n",
      "62:\tlearn: 0.1702243\ttotal: 3.55s\tremaining: 2.09s\n",
      "63:\tlearn: 0.1698278\ttotal: 3.61s\tremaining: 2.03s\n",
      "64:\tlearn: 0.1694777\ttotal: 3.67s\tremaining: 1.98s\n",
      "65:\tlearn: 0.1692059\ttotal: 3.73s\tremaining: 1.92s\n",
      "66:\tlearn: 0.1685182\ttotal: 3.78s\tremaining: 1.86s\n",
      "67:\tlearn: 0.1682136\ttotal: 3.83s\tremaining: 1.8s\n",
      "68:\tlearn: 0.1680841\ttotal: 3.89s\tremaining: 1.75s\n",
      "69:\tlearn: 0.1678655\ttotal: 3.96s\tremaining: 1.7s\n",
      "70:\tlearn: 0.1676771\ttotal: 4.03s\tremaining: 1.65s\n",
      "71:\tlearn: 0.1673603\ttotal: 4.08s\tremaining: 1.59s\n",
      "72:\tlearn: 0.1670686\ttotal: 4.14s\tremaining: 1.53s\n",
      "73:\tlearn: 0.1665063\ttotal: 4.19s\tremaining: 1.47s\n",
      "74:\tlearn: 0.1659796\ttotal: 4.25s\tremaining: 1.42s\n",
      "75:\tlearn: 0.1655036\ttotal: 4.31s\tremaining: 1.36s\n",
      "76:\tlearn: 0.1652356\ttotal: 4.37s\tremaining: 1.3s\n",
      "77:\tlearn: 0.1647318\ttotal: 4.42s\tremaining: 1.25s\n",
      "78:\tlearn: 0.1642626\ttotal: 4.48s\tremaining: 1.19s\n",
      "79:\tlearn: 0.1640271\ttotal: 4.53s\tremaining: 1.13s\n",
      "80:\tlearn: 0.1638764\ttotal: 4.58s\tremaining: 1.07s\n",
      "81:\tlearn: 0.1636659\ttotal: 4.63s\tremaining: 1.02s\n",
      "82:\tlearn: 0.1631944\ttotal: 4.7s\tremaining: 963ms\n",
      "83:\tlearn: 0.1630523\ttotal: 4.77s\tremaining: 908ms\n",
      "84:\tlearn: 0.1629267\ttotal: 4.82s\tremaining: 851ms\n",
      "85:\tlearn: 0.1628246\ttotal: 4.87s\tremaining: 793ms\n",
      "86:\tlearn: 0.1626138\ttotal: 4.93s\tremaining: 736ms\n",
      "87:\tlearn: 0.1623254\ttotal: 4.98s\tremaining: 679ms\n",
      "88:\tlearn: 0.1617903\ttotal: 5.03s\tremaining: 621ms\n",
      "89:\tlearn: 0.1615793\ttotal: 5.09s\tremaining: 565ms\n",
      "90:\tlearn: 0.1613421\ttotal: 5.15s\tremaining: 509ms\n",
      "91:\tlearn: 0.1611008\ttotal: 5.21s\tremaining: 453ms\n",
      "92:\tlearn: 0.1608159\ttotal: 5.27s\tremaining: 397ms\n",
      "93:\tlearn: 0.1606547\ttotal: 5.34s\tremaining: 341ms\n",
      "94:\tlearn: 0.1605594\ttotal: 5.4s\tremaining: 284ms\n",
      "95:\tlearn: 0.1602797\ttotal: 5.46s\tremaining: 228ms\n",
      "96:\tlearn: 0.1601306\ttotal: 5.52s\tremaining: 171ms\n",
      "97:\tlearn: 0.1599217\ttotal: 5.57s\tremaining: 114ms\n",
      "98:\tlearn: 0.1595137\ttotal: 5.63s\tremaining: 56.9ms\n",
      "99:\tlearn: 0.1593825\ttotal: 5.7s\tremaining: 0us\n",
      "f1 score: 0.916951690449149\n"
     ]
    }
   ],
   "source": [
    "# Call the modeling function for Catboost with Hash Vectorizer and print f1 score\n",
    "modeling(CatBoostClassifier(iterations=100, learning_rate=0.8, depth=2, \n",
    "                            loss_function='Logloss'), hash_vect_train, hash_vect_test)\n",
    "\n",
    "# Assign y_pred to a variable for further process\n",
    "y_pred_hash_catboost = y_pred"
   ]
  },
  {
   "cell_type": "markdown",
   "metadata": {},
   "source": [
    "#### Classification Report"
   ]
  },
  {
   "cell_type": "code",
   "execution_count": 71,
   "metadata": {},
   "outputs": [
    {
     "name": "stdout",
     "output_type": "stream",
     "text": [
      "              precision    recall  f1-score   support\n",
      "\n",
      "           0       0.50      0.17      0.25       580\n",
      "           1       0.94      0.99      0.96      8077\n",
      "\n",
      "    accuracy                           0.93      8657\n",
      "   macro avg       0.72      0.58      0.61      8657\n",
      "weighted avg       0.91      0.93      0.92      8657\n",
      "\n"
     ]
    }
   ],
   "source": [
    "# Compute and print the classification report\n",
    "print(classification_report(y_test, y_pred_hash_catboost))"
   ]
  },
  {
   "cell_type": "markdown",
   "metadata": {},
   "source": [
    "#### Confusion Matrix"
   ]
  },
  {
   "cell_type": "code",
   "execution_count": 72,
   "metadata": {},
   "outputs": [
    {
     "data": {
      "image/png": "[encoded data removed]",
      "text/plain": [
       "<Figure size 720x720 with 2 Axes>"
      ]
     },
     "metadata": {
      "needs_background": "light"
     },
     "output_type": "display_data"
    }
   ],
   "source": [
    "# Print confusion matrix for CatBoost with Hash Vectorizer\n",
    "disp_confusion_matrix(y_pred_hash_catboost, \"CatBoost\", \"Hash Vectorizer\")"
   ]
  },
  {
   "cell_type": "markdown",
   "metadata": {},
   "source": [
    "## 4.3.6 Comparison of Models with Hash Vectorizer"
   ]
  },
  {
   "cell_type": "code",
   "execution_count": 73,
   "metadata": {},
   "outputs": [],
   "source": [
    "comparison_table(y_preds = [y_pred_hash_logreg, y_pred_hash_rf, y_pred_hash_xgb, y_pred_hash_catboost], \n",
    "                labels = ['LogReg', 'Random Forest', 'XGBoost', 'CatBoost'])"
   ]
  },
  {
   "cell_type": "markdown",
   "metadata": {},
   "source": [
    "#### Comparison Table"
   ]
  },
  {
   "cell_type": "code",
   "execution_count": 74,
   "metadata": {},
   "outputs": [
    {
     "name": "stdout",
     "output_type": "stream",
     "text": [
      "\n",
      "Comparision Matrix of Models with Hash Vectorizer\n",
      "\n"
     ]
    },
    {
     "data": {
      "text/html": [
       "<div>\n",
       "<style scoped>\n",
       "    .dataframe tbody tr th:only-of-type {\n",
       "        vertical-align: middle;\n",
       "    }\n",
       "\n",
       "    .dataframe tbody tr th {\n",
       "        vertical-align: top;\n",
       "    }\n",
       "\n",
       "    .dataframe thead th {\n",
       "        text-align: right;\n",
       "    }\n",
       "</style>\n",
       "<table border=\"1\" class=\"dataframe\">\n",
       "  <thead>\n",
       "    <tr style=\"text-align: right;\">\n",
       "      <th></th>\n",
       "      <th></th>\n",
       "      <th></th>\n",
       "      <th></th>\n",
       "      <th>precision</th>\n",
       "      <th>recall</th>\n",
       "      <th>f1-score</th>\n",
       "      <th>support</th>\n",
       "    </tr>\n",
       "    <tr>\n",
       "      <th>vectorizer</th>\n",
       "      <th>model</th>\n",
       "      <th>accuracy</th>\n",
       "      <th>class</th>\n",
       "      <th></th>\n",
       "      <th></th>\n",
       "      <th></th>\n",
       "      <th></th>\n",
       "    </tr>\n",
       "  </thead>\n",
       "  <tbody>\n",
       "    <tr>\n",
       "      <th rowspan=\"12\" valign=\"top\">CountVect</th>\n",
       "      <th rowspan=\"3\" valign=\"top\">LogReg</th>\n",
       "      <th rowspan=\"3\" valign=\"top\">0.793115</th>\n",
       "      <th>bad</th>\n",
       "      <td>0.207063</td>\n",
       "      <td>0.737931</td>\n",
       "      <td>0.323385</td>\n",
       "      <td>580.0</td>\n",
       "    </tr>\n",
       "    <tr>\n",
       "      <th>good</th>\n",
       "      <td>0.976935</td>\n",
       "      <td>0.797078</td>\n",
       "      <td>0.877889</td>\n",
       "      <td>8077.0</td>\n",
       "    </tr>\n",
       "    <tr>\n",
       "      <th>average</th>\n",
       "      <td>0.925355</td>\n",
       "      <td>0.793115</td>\n",
       "      <td>0.840739</td>\n",
       "      <td>8657.0</td>\n",
       "    </tr>\n",
       "    <tr>\n",
       "      <th rowspan=\"3\" valign=\"top\">Random Forest</th>\n",
       "      <th rowspan=\"3\" valign=\"top\">0.934273</th>\n",
       "      <th>bad</th>\n",
       "      <td>0.579710</td>\n",
       "      <td>0.068966</td>\n",
       "      <td>0.123267</td>\n",
       "      <td>580.0</td>\n",
       "    </tr>\n",
       "    <tr>\n",
       "      <th>good</th>\n",
       "      <td>0.937122</td>\n",
       "      <td>0.996410</td>\n",
       "      <td>0.965857</td>\n",
       "      <td>8077.0</td>\n",
       "    </tr>\n",
       "    <tr>\n",
       "      <th>average</th>\n",
       "      <td>0.913176</td>\n",
       "      <td>0.934273</td>\n",
       "      <td>0.909405</td>\n",
       "      <td>8657.0</td>\n",
       "    </tr>\n",
       "    <tr>\n",
       "      <th rowspan=\"3\" valign=\"top\">XGBoost</th>\n",
       "      <th rowspan=\"3\" valign=\"top\">0.937969</th>\n",
       "      <th>bad</th>\n",
       "      <td>0.654676</td>\n",
       "      <td>0.156897</td>\n",
       "      <td>0.253129</td>\n",
       "      <td>580.0</td>\n",
       "    </tr>\n",
       "    <tr>\n",
       "      <th>good</th>\n",
       "      <td>0.942592</td>\n",
       "      <td>0.994057</td>\n",
       "      <td>0.967641</td>\n",
       "      <td>8077.0</td>\n",
       "    </tr>\n",
       "    <tr>\n",
       "      <th>average</th>\n",
       "      <td>0.923302</td>\n",
       "      <td>0.937969</td>\n",
       "      <td>0.919770</td>\n",
       "      <td>8657.0</td>\n",
       "    </tr>\n",
       "    <tr>\n",
       "      <th rowspan=\"3\" valign=\"top\">CatBoost</th>\n",
       "      <th rowspan=\"3\" valign=\"top\">0.933002</th>\n",
       "      <th>bad</th>\n",
       "      <td>0.500000</td>\n",
       "      <td>0.165517</td>\n",
       "      <td>0.248705</td>\n",
       "      <td>580.0</td>\n",
       "    </tr>\n",
       "    <tr>\n",
       "      <th>good</th>\n",
       "      <td>0.942823</td>\n",
       "      <td>0.988114</td>\n",
       "      <td>0.964938</td>\n",
       "      <td>8077.0</td>\n",
       "    </tr>\n",
       "    <tr>\n",
       "      <th>average</th>\n",
       "      <td>0.913155</td>\n",
       "      <td>0.933002</td>\n",
       "      <td>0.916952</td>\n",
       "      <td>8657.0</td>\n",
       "    </tr>\n",
       "  </tbody>\n",
       "</table>\n",
       "</div>"
      ],
      "text/plain": [
       "                                           precision    recall  f1-score  \\\n",
       "vectorizer model         accuracy class                                    \n",
       "CountVect  LogReg        0.793115 bad       0.207063  0.737931  0.323385   \n",
       "                                  good      0.976935  0.797078  0.877889   \n",
       "                                  average   0.925355  0.793115  0.840739   \n",
       "           Random Forest 0.934273 bad       0.579710  0.068966  0.123267   \n",
       "                                  good      0.937122  0.996410  0.965857   \n",
       "                                  average   0.913176  0.934273  0.909405   \n",
       "           XGBoost       0.937969 bad       0.654676  0.156897  0.253129   \n",
       "                                  good      0.942592  0.994057  0.967641   \n",
       "                                  average   0.923302  0.937969  0.919770   \n",
       "           CatBoost      0.933002 bad       0.500000  0.165517  0.248705   \n",
       "                                  good      0.942823  0.988114  0.964938   \n",
       "                                  average   0.913155  0.933002  0.916952   \n",
       "\n",
       "                                           support  \n",
       "vectorizer model         accuracy class             \n",
       "CountVect  LogReg        0.793115 bad        580.0  \n",
       "                                  good      8077.0  \n",
       "                                  average   8657.0  \n",
       "           Random Forest 0.934273 bad        580.0  \n",
       "                                  good      8077.0  \n",
       "                                  average   8657.0  \n",
       "           XGBoost       0.937969 bad        580.0  \n",
       "                                  good      8077.0  \n",
       "                                  average   8657.0  \n",
       "           CatBoost      0.933002 bad        580.0  \n",
       "                                  good      8077.0  \n",
       "                                  average   8657.0  "
      ]
     },
     "execution_count": 74,
     "metadata": {},
     "output_type": "execute_result"
    }
   ],
   "source": [
    "# Print the comparision matrix\n",
    "print('\\nComparision Matrix of Models with Hash Vectorizer\\n')\n",
    "df_tv2"
   ]
  },
  {
   "cell_type": "markdown",
   "metadata": {},
   "source": [
    "#### Average f1 score - Hash Vectorizer"
   ]
  },
  {
   "cell_type": "code",
   "execution_count": 75,
   "metadata": {},
   "outputs": [
    {
     "data": {
      "image/png": "[encoded data removed]",
      "text/plain": [
       "<Figure size 1080x360 with 1 Axes>"
      ]
     },
     "metadata": {
      "needs_background": "light"
     },
     "output_type": "display_data"
    }
   ],
   "source": [
    "# Plotting f1 score with \"f1_score_bar_plot\" function\n",
    "f1_score_bar_plot(df=df_tv, category='average', title= \"Average F1 Score\")"
   ]
  }
 ],
 "metadata": {
  "hide_input": false,
  "kernelspec": {
   "display_name": "Python 3",
   "language": "python",
   "name": "python3"
  },
  "language_info": {
   "codemirror_mode": {
    "name": "ipython",
    "version": 3
   },
   "file_extension": ".py",
   "mimetype": "text/x-python",
   "name": "python",
   "nbconvert_exporter": "python",
   "pygments_lexer": "ipython3",
   "version": "3.8.2"
  },
  "toc": {
   "base_numbering": 1,
   "nav_menu": {},
   "number_sections": true,
   "sideBar": true,
   "skip_h1_title": false,
   "title_cell": "Table of Contents",
   "title_sidebar": "Contents",
   "toc_cell": false,
   "toc_position": {},
   "toc_section_display": true,
   "toc_window_display": false
  },
  "varInspector": {
   "cols": {
    "lenName": 16,
    "lenType": 16,
    "lenVar": 40
   },
   "kernels_config": {
    "python": {
     "delete_cmd_postfix": "",
     "delete_cmd_prefix": "del ",
     "library": "var_list.py",
     "varRefreshCmd": "print(var_dic_list())"
    },
    "r": {
     "delete_cmd_postfix": ") ",
     "delete_cmd_prefix": "rm(",
     "library": "var_list.r",
     "varRefreshCmd": "cat(var_dic_list()) "
    }
   },
   "types_to_exclude": [
    "module",
    "function",
    "builtin_function_or_method",
    "instance",
    "_Feature"
   ],
   "window_display": false
  }
 },
 "nbformat": 4,
 "nbformat_minor": 2
}
